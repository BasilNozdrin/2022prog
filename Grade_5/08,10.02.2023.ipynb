{
 "cells": [
  {
   "cell_type": "markdown",
   "source": [
    "# Задание на 8, 10.02.2023\n",
    "\n",
    "## 5 класс\n",
    "\n",
    "### Теория\n",
    "\n",
    "**Тема занятия: Свертка. Поиск максимума/минимума/суммы/произведения элементов списка. Проверка существования элемента с определенным свойством.**\n"
   ],
   "metadata": {
    "collapsed": false
   }
  },
  {
   "cell_type": "code",
   "execution_count": 1,
   "outputs": [],
   "source": [
    "from functools import reduce"
   ],
   "metadata": {
    "collapsed": false
   }
  },
  {
   "cell_type": "code",
   "execution_count": 10,
   "outputs": [
    {
     "name": "stdout",
     "output_type": "stream",
     "text": [
      "5\n",
      "10987654321/\\12345678910\n"
     ]
    }
   ],
   "source": [
    "def some_function_1(x, y):\n",
    "    # print(f'some_function_1 was called with {(x, y) = }')\n",
    "    # print(f'{y - x = }')\n",
    "    return y - x\n",
    "\n",
    "def some_function_2(string_data, elem):\n",
    "    # result = str(elem) + string_data + str(elem)\n",
    "    # print(result)\n",
    "    return str(elem) + string_data + str(elem)\n",
    "\n",
    "a = [1, 2, 3, 4, 5, 6, 7, 8, 9, 10]\n",
    "\n",
    "# reduce(f, a)\n",
    "# res0 = f(a[0], a[1])\n",
    "# res1 = f(res0, a[2])\n",
    "# res2 = f(res1, a[3])\n",
    "# res3 = f(res2, a[4])\n",
    "# res4 = f(res3, a[5])\n",
    "# ...\n",
    "# return resN\n",
    "\n",
    "print(\n",
    "    reduce(some_function_1, a),\n",
    "    reduce(some_function_2, a, \"/\\\\\"),\n",
    "    sep='\\n'\n",
    ")"
   ],
   "metadata": {
    "collapsed": false
   }
  },
  {
   "cell_type": "code",
   "execution_count": 83,
   "outputs": [
    {
     "name": "stdout",
     "output_type": "stream",
     "text": [
      "3\n",
      "45\n"
     ]
    }
   ],
   "source": [
    "print(\n",
    "    sum([1, 2]),\n",
    "    sum([1, 2, 3, 4, 5, 6, 7, 8, 9]),\n",
    "    sep='\\n'\n",
    ")"
   ],
   "metadata": {
    "collapsed": false
   }
  },
  {
   "cell_type": "code",
   "execution_count": 13,
   "outputs": [
    {
     "name": "stdout",
     "output_type": "stream",
     "text": [
      "45\n"
     ]
    }
   ],
   "source": [
    "def sum_2(iterable):\n",
    "    if len(iterable) != 0:\n",
    "        # print(f'{iterable[0] = }\\n{iterable[1:] = }\\n')\n",
    "        # result = iterable[0] + sum_2(iterable[1:])\n",
    "        # print(f'{result = }')\n",
    "        # return result\n",
    "        return iterable[0] + sum_2(iterable[1:])\n",
    "    return 0\n",
    "\n",
    "print(\n",
    "    sum_2([1, 2, 3, 4, 5, 6, 7, 8, 9])\n",
    ")"
   ],
   "metadata": {
    "collapsed": false
   }
  },
  {
   "cell_type": "code",
   "execution_count": 84,
   "outputs": [
    {
     "name": "stdout",
     "output_type": "stream",
     "text": [
      "1\n",
      "4\n"
     ]
    }
   ],
   "source": [
    "print(\n",
    "    min([1, 2, 3, 4, 5, 6]),\n",
    "    min(4, 5),\n",
    "    sep='\\n'\n",
    ")"
   ],
   "metadata": {
    "collapsed": false
   }
  },
  {
   "cell_type": "code",
   "execution_count": 16,
   "outputs": [
    {
     "name": "stdout",
     "output_type": "stream",
     "text": [
      "1\n"
     ]
    }
   ],
   "source": [
    "def min_2(iterable):\n",
    "    # print(f'({iterable[0]}, min_2({iterable[1:]})')\n",
    "    if len(iterable) == 0:\n",
    "        raise ValueError('iterable can not be empty')\n",
    "    if len(iterable) == 1:\n",
    "        return iterable[0]\n",
    "    # result = min(iterable[0], min_2(iterable[1:]))\n",
    "    # print(result)\n",
    "    # return result\n",
    "    min2 = min_2(iterable[1:])\n",
    "    if iterable[0] < min2:\n",
    "        return iterable[0]\n",
    "    else:\n",
    "        return min2\n",
    "    # return min(iterable[0], min_2(iterable[1:]))\n",
    "\n",
    "print(min_2([1, 2, 3, 4, 5, 6]))"
   ],
   "metadata": {
    "collapsed": false
   }
  },
  {
   "cell_type": "code",
   "execution_count": 90,
   "outputs": [
    {
     "name": "stdout",
     "output_type": "stream",
     "text": [
      "0.000\t0.333\t0.667\t1.000\t\n",
      "0.000\t0.333\t0.667\t1.000\t\n",
      "0.000\t0.333\t0.667\t1.000\t\n",
      "0.000\t0.333\t0.667\t1.000\t\n",
      "~~~~~~~~~~~~~~~~~~~~~~~~~~~~~~~~~~~~~~~~\n",
      "0.000\t0.333\t0.667\t1.000\t\n",
      "0.000\t0.333\t0.667\t1.000\t\n",
      "0.000\t0.333\t0.667\t1.000\t\n",
      "0.000\t0.333\t0.667\t1.000\t\n"
     ]
    }
   ],
   "source": [
    "|def norm_2d_1(data):\n",
    "    for i, row in enumerate(data):\n",
    "        row_min = min(row)\n",
    "        row_max = max(row)\n",
    "        data[i] = list(map(lambda x: (x - row_min) / (row_max-row_min), row))\n",
    "    return data\n",
    "\n",
    "def norm_2d_2(data):\n",
    "    data_min = min([min(row) for row in data])\n",
    "    data_max = max([max(row) for row in data])\n",
    "    for i in range(len(data)):\n",
    "        for j in range(len(data[i])):\n",
    "            data[i][j] -= data_min\n",
    "            data[i][j] /= data_max-data_min\n",
    "    return data\n",
    "\n",
    "data = [\n",
    "    [1, 2, 3, 4],\n",
    "    [5, 6, 7, 8],\n",
    "    [9, 10, 11, 12],\n",
    "    [13, 14, 15, 16]\n",
    "]\n",
    "\n",
    "norm1 = norm_2d_1(data)\n",
    "norm2 = norm_2d_2(data)\n",
    "\n",
    "for row in norm1:\n",
    "    for el in row:\n",
    "        print(f'{el:3.3f}\\t', end='')\n",
    "    print()\n",
    "\n",
    "print('~'*40)\n",
    "\n",
    "for row in norm2:\n",
    "    for el in row:\n",
    "        print(f'{el:3.3f}\\t', end='')\n",
    "    print()"
   ],
   "metadata": {
    "collapsed": false
   }
  },
  {
   "cell_type": "code",
   "execution_count": 20,
   "outputs": [
    {
     "name": "stdout",
     "output_type": "stream",
     "text": [
      "False True\n"
     ]
    }
   ],
   "source": [
    "print(\n",
    "    all([True, True, True, True, True, True, True, True, False]),\n",
    "    any([True, False, False, False, False, False, False, False])\n",
    ")"
   ],
   "metadata": {
    "collapsed": false
   }
  },
  {
   "cell_type": "markdown",
   "source": [
    "### Практика\n",
    "\n",
    "* **На оценку 3** напишите функцию, которая принимает список чисел в качестве аргумента и вычисляет произведение всех элементов списка с помощью функции reduce.\n",
    "* **На оценку 4** напишите функцию sum_str, которая принимает список чисел в качестве аргумента и возвращает строку, построенную из аргументов следующим образом:\n",
    "*пример* `sum_str([1, 2, 3, 4]) = \"1 + 2 + 3 + 4\"`\n",
    "* **На оценку 5** напишите функцию has_prime, которая принимает список чисел в качестве аргумента и возвращает `True`, если список содержит простое число.\n",
    "\n",
    "Чтобы получить 4 надо выполнить задание на 3.\n",
    "Чтобы получить 5 надо выполнить задание на 3 и на 4.\n"
   ],
   "metadata": {
    "collapsed": false
   }
  },
  {
   "cell_type": "code",
   "execution_count": null,
   "outputs": [],
   "source": [],
   "metadata": {
    "collapsed": false,
    "pycharm": {
     "is_executing": true
    }
   }
  },
  {
   "cell_type": "code",
   "execution_count": 20,
   "outputs": [],
   "source": [],
   "metadata": {
    "collapsed": false
   }
  }
 ],
 "metadata": {
  "kernelspec": {
   "display_name": "Python 3",
   "language": "python",
   "name": "python3"
  },
  "language_info": {
   "codemirror_mode": {
    "name": "ipython",
    "version": 2
   },
   "file_extension": ".py",
   "mimetype": "text/x-python",
   "name": "python",
   "nbconvert_exporter": "python",
   "pygments_lexer": "ipython2",
   "version": "2.7.6"
  }
 },
 "nbformat": 4,
 "nbformat_minor": 0
}
