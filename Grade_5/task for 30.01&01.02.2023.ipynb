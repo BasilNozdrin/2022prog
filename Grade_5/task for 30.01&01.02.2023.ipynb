{
 "cells": [
  {
   "cell_type": "markdown",
   "id": "bab9cd9c",
   "metadata": {},
   "source": [
    "# Задание на 30.01&01.02.2023\n",
    "\n",
    "## 5 класс\n",
    "\n",
    "### Теория\n",
    "\n",
    "**Тема занятия: Работа с файлами в python.**\n",
    "\n"
   ]
  },
  {
   "cell_type": "code",
   "execution_count": null,
   "outputs": [],
   "source": [
    "with open('./file1.txt', 'r') as file1:\n",
    "    print(file1, end='\\n\\n')\n",
    "    print(file1.read())"
   ],
   "metadata": {
    "collapsed": false,
    "pycharm": {
     "is_executing": true
    }
   }
  },
  {
   "cell_type": "markdown",
   "source": [
    "### Практика\n",
    "\n",
    "* **На оценку 3** вычислите сколько в книге Война и Мир букв 'а'.\n",
    "* **На оценку 4** сохраните первую главу книги Война и Мир в отдельный файл.\n",
    "* **На оценку 5** вычислите сколько в книге Война и Мир букв русского алфавита.\n"
   ],
   "metadata": {
    "collapsed": false
   }
  },
  {
   "cell_type": "code",
   "execution_count": 21,
   "outputs": [
    {
     "name": "stdout",
     "output_type": "stream",
     "text": [
      "abcdefghijklmnop ABCDEFGHIJKLMNOP\n"
     ]
    }
   ],
   "source": [
    "s = 'abcdEFGHijkLMNop'\n",
    "print(s.lower(), s.upper())"
   ],
   "metadata": {
    "collapsed": false
   }
  },
  {
   "cell_type": "code",
   "execution_count": 3,
   "outputs": [
    {
     "name": "stdout",
     "output_type": "stream",
     "text": [
      "1040 65 1071 1025\n"
     ]
    }
   ],
   "source": [
    "print(ord('А'), ord('A'), ord('Я'), ord('Ё'))"
   ],
   "metadata": {
    "collapsed": false
   }
  },
  {
   "cell_type": "code",
   "execution_count": 5,
   "outputs": [
    {
     "name": "stdout",
     "output_type": "stream",
     "text": [
      "0 1 2 3 4 5 ё 6 7 8 10 "
     ]
    }
   ],
   "source": [
    "for x in 'АБВгдеёЖЗИк':\n",
    "    if x.lower() == 'ё':\n",
    "        print(x, end=' ')\n",
    "    else:\n",
    "        print(ord(x.upper())-ord('А'), end=' ')"
   ],
   "metadata": {
    "collapsed": false
   }
  },
  {
   "cell_type": "code",
   "execution_count": 20,
   "outputs": [
    {
     "name": "stdout",
     "output_type": "stream",
     "text": [
      "1040->А  1041->Б  1042->В  1043->Г  1044->Д  \n",
      "1045->Е  1046->Ж  1047->З  1048->И  1049->Й  \n",
      "1050->К  1051->Л  1052->М  1053->Н  1054->О  \n",
      "1055->П  1056->Р  1057->С  1058->Т  1059->У  \n",
      "1060->Ф  1061->Х  1062->Ц  1063->Ч  1064->Ш  \n",
      "1065->Щ  1066->Ъ  1067->Ы  1068->Ь  1069->Э  \n",
      "1070->Ю  1071->Я  "
     ]
    }
   ],
   "source": [
    "for x in range(32):\n",
    "    number = ord('А') + x\n",
    "    letter = chr(number)\n",
    "    print(f'{number}->{letter}' , end='  ')\n",
    "    if x % 5 == 4:\n",
    "        print()"
   ],
   "metadata": {
    "collapsed": false
   }
  },
  {
   "cell_type": "code",
   "execution_count": null,
   "outputs": [],
   "source": [],
   "metadata": {
    "collapsed": false
   }
  }
 ],
 "metadata": {
  "kernelspec": {
   "display_name": "Python 3 (ipykernel)",
   "language": "python",
   "name": "python3"
  },
  "language_info": {
   "codemirror_mode": {
    "name": "ipython",
    "version": 3
   },
   "file_extension": ".py",
   "mimetype": "text/x-python",
   "name": "python",
   "nbconvert_exporter": "python",
   "pygments_lexer": "ipython3",
   "version": "3.11.0"
  }
 },
 "nbformat": 4,
 "nbformat_minor": 5
}
