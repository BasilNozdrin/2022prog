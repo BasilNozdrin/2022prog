{
 "cells": [
  {
   "cell_type": "markdown",
   "source": [
    "# Задание на 8, 10.02.2023\n",
    "\n",
    "## 5 класс\n",
    "\n",
    "### Теория\n",
    "\n",
    "**Темы занятий: Проверить что все элементы списка удовлетворяют определенному свойству. Подсчитать количество элементов списка, удовлетворяющих определенному свойству. Фильтрация. Оставить в списке только элементы удовлетворяющие определенному свойству (`filter`). Заменить элементы в списке по определенному правилу (`map`).**\n",
    "\n",
    "**На оценку 3** напишите функцию, которая возвращает `True`, если все числа в списке четные(5-1)/нечетные(5-2). Иначе функция возвращает `False`.\n",
    "**На оценку 4** напишите функцию, оставляющую только четные(5-1)/нечетные(5-2) числа в списке. Напишите функцию, вычисляющую количество четных(5-1)/нечетных(5-2) чисел в списке.\n",
    "**На оценку 5** напишите функцию, которая уменьшает все значения в списке на значение минимального элемента списка и делит на разность значений минимального и максимального элементов.\n",
    "\n",
    "Для оценки 5 нужно выполнить все 3 задания."
   ],
   "metadata": {
    "collapsed": false
   }
  },
  {
   "cell_type": "code",
   "execution_count": 16,
   "outputs": [],
   "source": [
    "def f(x):\n",
    "    print('функция f вызвана')\n",
    "    return 2*x"
   ],
   "metadata": {
    "collapsed": false
   }
  },
  {
   "cell_type": "code",
   "execution_count": 11,
   "outputs": [
    {
     "name": "stdout",
     "output_type": "stream",
     "text": [
      "[1, 2, 3, 4, 3, 2, 1, 0, -1, -2]\n"
     ]
    }
   ],
   "source": [
    "data0 = [1, 2, 3, 4, 3, 2, 1, 0, -1, -2]\n",
    "print(data0)"
   ],
   "metadata": {
    "collapsed": false
   }
  },
  {
   "cell_type": "code",
   "execution_count": 12,
   "outputs": [
    {
     "name": "stdout",
     "output_type": "stream",
     "text": [
      "<map object at 0x00000226498644C0>\n"
     ]
    }
   ],
   "source": [
    "data01 = map(f, data0)\n",
    "print(data01)"
   ],
   "metadata": {
    "collapsed": false
   }
  },
  {
   "cell_type": "code",
   "execution_count": 13,
   "outputs": [
    {
     "name": "stdout",
     "output_type": "stream",
     "text": [
      "функция f вызвана\n",
      "функция f вызвана\n",
      "функция f вызвана\n",
      "функция f вызвана\n",
      "функция f вызвана\n",
      "функция f вызвана\n",
      "функция f вызвана\n",
      "функция f вызвана\n",
      "функция f вызвана\n",
      "функция f вызвана\n",
      "[2, 4, 6, 8, 6, 4, 2, 0, -2, -4]\n"
     ]
    }
   ],
   "source": [
    "data01 = list(data01)\n",
    "print(data01)"
   ],
   "metadata": {
    "collapsed": false
   }
  },
  {
   "cell_type": "code",
   "execution_count": 14,
   "outputs": [
    {
     "name": "stdout",
     "output_type": "stream",
     "text": [
      "[3, 6, 9, 12, 9, 6, 3, 0, -3, -6]\n"
     ]
    }
   ],
   "source": [
    "data02 = list(map(lambda el: el*3, data0))\n",
    "print(data02)"
   ],
   "metadata": {
    "collapsed": false
   }
  },
  {
   "cell_type": "code",
   "execution_count": 17,
   "outputs": [
    {
     "name": "stdout",
     "output_type": "stream",
     "text": [
      "[-1, -2, -3, -4, -3, -2, -1, 0, 1, 2]\n"
     ]
    }
   ],
   "source": [
    "g = lambda y: -y        # анонимная функция или лямбда-выражение\n",
    "data03 = list(map(g, data0))\n",
    "print(data03)"
   ],
   "metadata": {
    "collapsed": false
   }
  },
  {
   "cell_type": "markdown",
   "source": [],
   "metadata": {
    "collapsed": false
   }
  },
  {
   "cell_type": "code",
   "execution_count": 1,
   "outputs": [
    {
     "name": "stdout",
     "output_type": "stream",
     "text": [
      "[(1, 1), (-1, 1), (2, 4), (3, 9), (-2, 5), (2, 1)]\n",
      "[True, True, True, True, False, True]\n",
      "[True, True, True, True, True, False]\n"
     ]
    }
   ],
   "source": [
    "data1 = [(1, 1), (-1, 1), (2, 4), (3, 9), (-2, 5), (2, 1)]\n",
    "print(\n",
    "    data1,\n",
    "    list(map(lambda pair: pair[1] <= pair[0]**2, data1)),\n",
    "    list(map(lambda pair: pair[1] >= pair[0]**2, data1)),\n",
    "    sep='\\n'\n",
    ")"
   ],
   "metadata": {
    "collapsed": false
   }
  },
  {
   "cell_type": "code",
   "execution_count": 2,
   "outputs": [
    {
     "name": "stdout",
     "output_type": "stream",
     "text": [
      "False\n",
      "True\n",
      "True\n",
      "False\n"
     ]
    }
   ],
   "source": [
    "print(all([True, True, True, True, False, True]))\n",
    "print(all([True, True, True, True, True, True]))\n",
    "print(any([True, True, True, True, False, True]))\n",
    "print(all([False, False, False, False, False, False]))"
   ],
   "metadata": {
    "collapsed": false
   }
  },
  {
   "cell_type": "code",
   "execution_count": 3,
   "outputs": [
    {
     "name": "stdout",
     "output_type": "stream",
     "text": [
      "[(1, 1), (-1, 1), (2, 4), (3, 9), (-2, 5), (2, 1)]\n",
      "[True, True, True, True, False, True]\n",
      "[(1, 1), (-1, 1), (2, 4), (3, 9), (2, 1)]\n",
      "5\n"
     ]
    }
   ],
   "source": [
    "print(\n",
    "    data1,\n",
    "    list(map(lambda pair: pair[1] <= pair[0]**2, data1)),\n",
    "    list(filter(lambda pair: pair[1] <= pair[0]**2, data1)),\n",
    "    len(list(filter(lambda pair: pair[1] <= pair[0]**2, data1))),\n",
    "    sep='\\n'\n",
    ")"
   ],
   "metadata": {
    "collapsed": false
   }
  },
  {
   "cell_type": "code",
   "execution_count": 4,
   "outputs": [
    {
     "name": "stdout",
     "output_type": "stream",
     "text": [
      "[1, -1, 8, 27, -10, 2]\n"
     ]
    }
   ],
   "source": [
    "print(\n",
    "    list(map(lambda pair: pair[0]*pair[1],data1))\n",
    ")"
   ],
   "metadata": {
    "collapsed": false
   }
  },
  {
   "cell_type": "code",
   "execution_count": 7,
   "outputs": [
    {
     "name": "stdout",
     "output_type": "stream",
     "text": [
      "[1, 2, 3, 4]\n",
      "['a', 'b', 'c', 'd']\n",
      "[(1, 'a'), (2, 'b'), (3, 'c'), (4, 'd')]\n"
     ]
    }
   ],
   "source": [
    "a = [1, 2, 3, 4]\n",
    "b = ['a', 'b', 'c', 'd']\n",
    "c = list(zip(a, b))\n",
    "print(a, b, c, sep='\\n')"
   ],
   "metadata": {
    "collapsed": false
   }
  },
  {
   "cell_type": "code",
   "execution_count": null,
   "outputs": [],
   "source": [],
   "metadata": {
    "collapsed": false
   }
  }
 ],
 "metadata": {
  "kernelspec": {
   "display_name": "Python 3",
   "language": "python",
   "name": "python3"
  },
  "language_info": {
   "codemirror_mode": {
    "name": "ipython",
    "version": 2
   },
   "file_extension": ".py",
   "mimetype": "text/x-python",
   "name": "python",
   "nbconvert_exporter": "python",
   "pygments_lexer": "ipython2",
   "version": "2.7.6"
  }
 },
 "nbformat": 4,
 "nbformat_minor": 0
}
