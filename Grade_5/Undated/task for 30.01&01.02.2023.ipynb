{
 "cells": [
  {
   "cell_type": "markdown",
   "id": "bab9cd9c",
   "metadata": {},
   "source": [
    "# Задание на 30.01&01.02&03.02.2023\n",
    "\n",
    "## 5 класс\n",
    "\n",
    "### Теория\n",
    "\n",
    "**Тема занятия: Работа с файлами в python.**\n",
    "\n"
   ]
  },
  {
   "cell_type": "markdown",
   "source": [],
   "metadata": {
    "collapsed": false
   }
  },
  {
   "cell_type": "code",
   "execution_count": 1,
   "outputs": [
    {
     "name": "stdout",
     "output_type": "stream",
     "text": [
      "<_io.TextIOWrapper name='file1.txt' mode='r' encoding='cp1252'>\n",
      "\n",
      "Hello! This is contents of file1!\n",
      "This is second line in file1.txt\n",
      "This is third line in file1.txt\n",
      "\n"
     ]
    }
   ],
   "source": [
    "with open('file1.txt', 'r') as file1:\n",
    "    print(file1, end='\\n\\n')\n",
    "    print(file1.read())"
   ],
   "metadata": {
    "collapsed": false
   }
  },
  {
   "cell_type": "markdown",
   "source": [
    "### Практика\n",
    "\n",
    "* **На оценку 3** вычислите сколько в книге Война и Мир букв 'а'.\n",
    "* **На оценку 4** сохраните первую главу книги Война и Мир в отдельный файл.\n",
    "* **На оценку 5** вычислите сколько в книге Война и Мир всех букв русского алфавита.\n"
   ],
   "metadata": {
    "collapsed": false
   }
  },
  {
   "cell_type": "code",
   "execution_count": 21,
   "outputs": [
    {
     "name": "stdout",
     "output_type": "stream",
     "text": [
      "abcdefghijklmnop ABCDEFGHIJKLMNOP\n"
     ]
    }
   ],
   "source": [
    "s = 'abcdEFGHijkLMNop'\n",
    "print(s.lower(), s.upper())"
   ],
   "metadata": {
    "collapsed": false
   }
  },
  {
   "cell_type": "code",
   "execution_count": 3,
   "outputs": [
    {
     "name": "stdout",
     "output_type": "stream",
     "text": [
      "1040 65 1071 1025\n"
     ]
    }
   ],
   "source": [
    "print(ord('А'), ord('A'), ord('Я'), ord('Ё'))"
   ],
   "metadata": {
    "collapsed": false
   }
  },
  {
   "cell_type": "code",
   "execution_count": 7,
   "outputs": [
    {
     "data": {
      "text/plain": "'0b1000001'"
     },
     "execution_count": 7,
     "metadata": {},
     "output_type": "execute_result"
    }
   ],
   "source": [
    "bin(65)"
   ],
   "metadata": {
    "collapsed": false
   }
  },
  {
   "cell_type": "code",
   "execution_count": 8,
   "outputs": [
    {
     "name": "stdout",
     "output_type": "stream",
     "text": [
      "0 1 2 3 4 5 ё 6 7 8 10 1 1 1 1 \n",
      "5\n",
      "5\n"
     ]
    }
   ],
   "source": [
    "counter = 0\n",
    "# book = ''\n",
    "# with open('1.txt', 'r', encoding='utf-8') as file:\n",
    "#     lines = file.readlines()\n",
    "#     for line in lines:\n",
    "#         counter += line.upper().count('!')\n",
    "#         book += line\n",
    "#         for x in line:\n",
    "#             pass\n",
    "\n",
    "# file.write(book)\n",
    "\n",
    "for x in 'АБВгдеёЖЗИкбббб':\n",
    "    if x.upper() == 'Б':\n",
    "        counter += 1\n",
    "    if x.lower() == 'ё':\n",
    "        print(x, end=' ')\n",
    "    else:\n",
    "        print(ord(x.upper())-ord('А'), end=' ')\n",
    "print()\n",
    "print(counter)\n",
    "\n",
    "string = 'АБВгдеёЖЗИкбббб'\n",
    "print(string.upper().count('Б'))"
   ],
   "metadata": {
    "collapsed": false
   }
  },
  {
   "cell_type": "code",
   "execution_count": 4,
   "outputs": [
    {
     "name": "stdout",
     "output_type": "stream",
     "text": [
      "1040 <---> А     1041 <---> Б     1042 <---> В     1043 <---> Г     1044 <---> Д     \n",
      "1045 <---> Е     1046 <---> Ж     1047 <---> З     1048 <---> И     1049 <---> Й     \n",
      "1050 <---> К     1051 <---> Л     1052 <---> М     1053 <---> Н     1054 <---> О     \n",
      "1055 <---> П     1056 <---> Р     1057 <---> С     1058 <---> Т     1059 <---> У     \n",
      "1060 <---> Ф     1061 <---> Х     1062 <---> Ц     1063 <---> Ч     1064 <---> Ш     \n",
      "1065 <---> Щ     1066 <---> Ъ     1067 <---> Ы     1068 <---> Ь     1069 <---> Э     \n",
      "1070 <---> Ю     1071 <---> Я     "
     ]
    }
   ],
   "source": [
    "for x in range(ord('Я')-ord('А')+1):\n",
    "    number = ord('А') + x\n",
    "    letter = chr(number)\n",
    "    print(f'{number} <---> {letter}' , end='     ')\n",
    "    if x % 5 == 4:\n",
    "        print()"
   ],
   "metadata": {
    "collapsed": false
   }
  },
  {
   "cell_type": "code",
   "execution_count": 10,
   "outputs": [],
   "source": [
    "letter_counters = [0] * 31\n",
    "\n",
    "for x in 'фывщлофыащоцацушщшоазышщваозывшщо':\n",
    "    res = ord(x.upper())-ord('А')\n",
    "    if 0 < res < 32:\n",
    "        letter_counters[res] += 1"
   ],
   "metadata": {
    "collapsed": false
   }
  },
  {
   "cell_type": "code",
   "execution_count": 11,
   "outputs": [
    {
     "name": "stdout",
     "output_type": "stream",
     "text": [
      "[0, 0, 3, 0, 0, 0, 0, 2, 0, 0, 0, 1, 0, 0, 5, 0, 0, 0, 0, 1, 2, 0, 2, 0, 4, 5, 0, 4, 0, 0, 0]\n"
     ]
    }
   ],
   "source": [
    "print(letter_counters)"
   ],
   "metadata": {
    "collapsed": false
   }
  },
  {
   "cell_type": "code",
   "execution_count": 5,
   "outputs": [
    {
     "name": "stdout",
     "output_type": "stream",
     "text": [
      "А 1\n",
      "Б 1\n",
      "В 0\n",
      "Г 0\n",
      "Д 0\n",
      "Е 4\n",
      "Ж 0\n",
      "З 1\n",
      "И 2\n",
      "Й 0\n",
      "К 2\n",
      "Л 1\n",
      "М 0\n",
      "Н 1\n",
      "О 1\n",
      "П 0\n",
      "Р 1\n",
      "С 2\n",
      "Т 2\n",
      "У 2\n",
      "Ф 1\n",
      "Х 2\n",
      "Ц 1\n",
      "Ч 0\n",
      "Ш 1\n",
      "Щ 1\n",
      "Ъ 1\n",
      "Ы 0\n",
      "Ь 1\n",
      "Э 1\n",
      "Ю 0\n",
      "Я 0\n"
     ]
    }
   ],
   "source": [
    "# ...\n",
    "# s = f.read().upper()\n",
    "# ...\n",
    "s = \"Съешьте еще этих французских булок\".upper()\n",
    "\n",
    "for x in range(32):\n",
    "    number = ord('А') + x\n",
    "    letter = chr(number)\n",
    "    print(letter, s.count(letter))"
   ],
   "metadata": {
    "collapsed": false
   }
  },
  {
   "cell_type": "code",
   "execution_count": null,
   "outputs": [],
   "source": [],
   "metadata": {
    "collapsed": false
   }
  }
 ],
 "metadata": {
  "kernelspec": {
   "display_name": "Python 3 (ipykernel)",
   "language": "python",
   "name": "python3"
  },
  "language_info": {
   "codemirror_mode": {
    "name": "ipython",
    "version": 3
   },
   "file_extension": ".py",
   "mimetype": "text/x-python",
   "name": "python",
   "nbconvert_exporter": "python",
   "pygments_lexer": "ipython3",
   "version": "3.11.0"
  }
 },
 "nbformat": 4,
 "nbformat_minor": 5
}
