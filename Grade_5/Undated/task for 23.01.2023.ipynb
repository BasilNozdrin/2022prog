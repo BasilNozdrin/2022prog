{
 "cells": [
  {
   "cell_type": "markdown",
   "source": [
    "# Задание на 23.01.2023\n",
    "\n",
    "## 5 класс\n",
    "\n",
    "### Теория\n",
    "\n",
    "Двумерные массивы"
   ],
   "metadata": {
    "collapsed": false
   }
  },
  {
   "cell_type": "code",
   "execution_count": 1,
   "outputs": [
    {
     "name": "stdout",
     "output_type": "stream",
     "text": [
      "[]\n",
      "[1, 2]\n",
      "[1, 2, 3, 4]\n",
      "1 2 3 4\n",
      "1 4 3\n"
     ]
    }
   ],
   "source": [
    "list1 = []\n",
    "\n",
    "print(list1)            # []\n",
    "\n",
    "list1.append(1)\n",
    "list1.append(2)\n",
    "\n",
    "print(list1)            # [1, 2]\n",
    "\n",
    "list1.append(3)\n",
    "list1.append(4)\n",
    "\n",
    "print(list1)            # [1, 2, 3, 4]\n",
    "\n",
    "print(*list1)           # 1 2 3 4\n",
    "\n",
    "# print 1 4 3\n",
    "print(list1[0], list1[3], list1[2])"
   ],
   "metadata": {
    "collapsed": false
   }
  },
  {
   "cell_type": "code",
   "execution_count": 2,
   "outputs": [
    {
     "name": "stdout",
     "output_type": "stream",
     "text": [
      "[255, 255, 3, 4]\n"
     ]
    }
   ],
   "source": [
    "list1[0] = 255\n",
    "list1[1] = list1[0]\n",
    "print(list1)"
   ],
   "metadata": {
    "collapsed": false
   }
  },
  {
   "cell_type": "code",
   "execution_count": 4,
   "outputs": [
    {
     "name": "stdout",
     "output_type": "stream",
     "text": [
      "[[1, 2, 3, 4, 5], [6, 7, 8, 9, 10], [11, 12, 13, 14, 15], [16, 17, 18, 19, 20]]\n",
      "[11, 12, 13, 14, 15]\n",
      "14\n"
     ]
    }
   ],
   "source": [
    "a = [1, 2, 3, 4, 5, 6]\n",
    "\n",
    "b = [\n",
    "    [1, 2, 3, 4, 5],\n",
    "    [6, 7, 8, 9, 10],\n",
    "    [11, 12, 13, 14 ,15],\n",
    "    [16, 17, 18, 19, 20]\n",
    "]\n",
    "\n",
    "print(b)\n",
    "\n",
    "print(b[2])\n",
    "\n",
    "print(b[2][3])"
   ],
   "metadata": {
    "collapsed": false
   }
  },
  {
   "cell_type": "code",
   "execution_count": 5,
   "outputs": [],
   "source": [
    "b.append(9999)"
   ],
   "metadata": {
    "collapsed": false
   }
  },
  {
   "cell_type": "code",
   "execution_count": 6,
   "outputs": [
    {
     "name": "stdout",
     "output_type": "stream",
     "text": [
      "[[1, 2, 3, 4, 5], [6, 7, 8, 9, 10], [11, 12, 13, 14, 15], [16, 17, 18, 19, 20], 9999]\n"
     ]
    }
   ],
   "source": [
    "print(b)"
   ],
   "metadata": {
    "collapsed": false
   }
  },
  {
   "cell_type": "code",
   "execution_count": 20,
   "outputs": [
    {
     "name": "stdout",
     "output_type": "stream",
     "text": [
      "0\n",
      "0 2\n",
      "0 2 4\n",
      "0 2 4 6\n",
      "0 2 4 6 8\n",
      "0 2 4 6 8 10\n",
      "0 2 4 6 8 10 12\n",
      "0 2 4 6 8 10 12 14\n",
      "0 2 4 6 8 10 12 14 16\n",
      "0 2 4 6 8 10 12 14 16 18\n",
      "0 2 4 6 8 10 12 14 16 18\n"
     ]
    }
   ],
   "source": [
    "s = []\n",
    "\n",
    "for i in range(10):\n",
    "    s.append(2*i)\n",
    "    print(*s, end='\\n')\n",
    "\n",
    "print(*s)"
   ],
   "metadata": {
    "collapsed": false
   }
  },
  {
   "cell_type": "code",
   "execution_count": 8,
   "outputs": [
    {
     "name": "stdout",
     "output_type": "stream",
     "text": [
      "0 1 2 3 4 5 6 7 8 9 "
     ]
    }
   ],
   "source": [
    "for i in range(10):\n",
    "    print(i, end=' ')"
   ],
   "metadata": {
    "collapsed": false
   }
  },
  {
   "cell_type": "code",
   "execution_count": 9,
   "outputs": [
    {
     "name": "stdout",
     "output_type": "stream",
     "text": [
      "5 6 7 8 9 "
     ]
    }
   ],
   "source": [
    "for i in range(5, 10):\n",
    "    print(i, end=' ')"
   ],
   "metadata": {
    "collapsed": false
   }
  },
  {
   "cell_type": "code",
   "execution_count": 12,
   "outputs": [
    {
     "name": "stdout",
     "output_type": "stream",
     "text": [
      "5 7 9 "
     ]
    }
   ],
   "source": [
    "for i in range(5, 10, 2):\n",
    "    print(i, end=' ')"
   ],
   "metadata": {
    "collapsed": false
   }
  },
  {
   "cell_type": "code",
   "execution_count": 16,
   "outputs": [
    {
     "name": "stdout",
     "output_type": "stream",
     "text": [
      "0 0 0 0 0 0 0 0 0 0\n",
      "0 2 4 6 8 10 12 14 16 18\n",
      "0 4 8 12 16 20 24 28 32 36\n",
      "0 6 12 18 24 30 36 42 48 54\n",
      "0 8 16 24 32 40 48 56 64 72\n",
      "0 10 20 30 40 50 60 70 80 90\n",
      "0 12 24 36 48 60 72 84 96 108\n",
      "0 14 28 42 56 70 84 98 112 126\n",
      "0 16 32 48 64 80 96 112 128 144\n",
      "0 18 36 54 72 90 108 126 144 162\n"
     ]
    }
   ],
   "source": [
    "s = []\n",
    "\n",
    "for i in range(10):\n",
    "    # i -> [0, 1, 2, 3, ..., 9]\n",
    "    s.append([])\n",
    "    s[i] = []\n",
    "\n",
    "    for minecraft in range(0, 20, 2):\n",
    "        # minecraft -> [0, 2, 4, 6, ..., 18]\n",
    "        s[i].append(i*minecraft)\n",
    "\n",
    "\n",
    "for row in s:\n",
    "    print(*row)\n"
   ],
   "metadata": {
    "collapsed": false
   }
  },
  {
   "cell_type": "code",
   "execution_count": 17,
   "outputs": [],
   "source": [
    "# 0 0 0 0 0 0 0 0\n",
    "# 1 0 0 0 0 0 0 0\n",
    "# 1 1 0 0 0 0 0 0\n",
    "# 1 1 1 0 0 0 0 0\n",
    "# 1 1 1 1 0 0 0 0\n",
    "# ...\n",
    "# 1 1 1 1 1 1 1 0\n",
    "\n",
    "a = [\n",
    "    [0, 0, 0],\n",
    "    [1, 0, 0],\n",
    "    [1, 1, 0]\n",
    "]"
   ],
   "metadata": {
    "collapsed": false
   }
  },
  {
   "cell_type": "code",
   "execution_count": 18,
   "outputs": [
    {
     "name": "stdout",
     "output_type": "stream",
     "text": [
      "[1, 1, 1, 1, 1, 0, 0, 0, 0, 0, 0, 0]\n"
     ]
    }
   ],
   "source": [
    "example = [1] * 5 + [0] * 7\n",
    "# s.append([1] * 5 + [0] * 7)\n",
    "\n",
    "print(example)"
   ],
   "metadata": {
    "collapsed": false
   }
  },
  {
   "cell_type": "code",
   "execution_count": null,
   "outputs": [],
   "source": [],
   "metadata": {
    "collapsed": false
   }
  }
 ],
 "metadata": {
  "kernelspec": {
   "display_name": "Python 3",
   "language": "python",
   "name": "python3"
  },
  "language_info": {
   "codemirror_mode": {
    "name": "ipython",
    "version": 2
   },
   "file_extension": ".py",
   "mimetype": "text/x-python",
   "name": "python",
   "nbconvert_exporter": "python",
   "pygments_lexer": "ipython2",
   "version": "2.7.6"
  }
 },
 "nbformat": 4,
 "nbformat_minor": 0
}
