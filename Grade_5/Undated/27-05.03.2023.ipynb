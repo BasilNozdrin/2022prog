{
 "cells": [
  {
   "cell_type": "markdown",
   "source": [
    "# Задание на 01.03.2023\n",
    "\n",
    "## 5 класс\n",
    "\n",
    "### Проверка упорядоченности, решение задач\n",
    "\n",
    "**На оценку 3** напишите функцию, принимающую список целых чисел и возвращающую `True`, если список упорядочен. В противном случае функция должна возвращать `False`.\n",
    "\n",
    "**На оценку 4** реализуйте сортировку пузырьком для списка целых чисел.\n",
    "\n",
    "**На оценку 5** реализуйте быструю сортировку для списка целых чисел.\n",
    "\n",
    "\n",
    "Для оценки 5 нужно выполнить все 3 задания."
   ],
   "metadata": {
    "collapsed": false
   }
  },
  {
   "cell_type": "code",
   "execution_count": 1,
   "outputs": [
    {
     "name": "stdout",
     "output_type": "stream",
     "text": [
      "[1, 2, 3, 4, 5]\n"
     ]
    }
   ],
   "source": [
    "data = [5, 3, 1, 4, 2]\n",
    "\n",
    "print(sorted(data))"
   ],
   "metadata": {
    "collapsed": false
   }
  },
  {
   "cell_type": "code",
   "execution_count": 2,
   "outputs": [
    {
     "name": "stdout",
     "output_type": "stream",
     "text": [
      "[1, 2, 3, 4, 5]\n"
     ]
    }
   ],
   "source": [
    "copy_data = data[::]\n",
    "\n",
    "for i in range(5):\n",
    "    for j in range(5-i-1):\n",
    "        if copy_data[j] > copy_data[j+1]:\n",
    "            copy_data[j], copy_data[j+1] = copy_data[j+1], copy_data[j]\n",
    "print(copy_data)\n"
   ],
   "metadata": {
    "collapsed": false
   }
  },
  {
   "cell_type": "code",
   "execution_count": 3,
   "outputs": [
    {
     "name": "stdout",
     "output_type": "stream",
     "text": [
      "[5, 3, 1, 4, 2]\n"
     ]
    }
   ],
   "source": [
    "print(data)"
   ],
   "metadata": {
    "collapsed": false
   }
  },
  {
   "cell_type": "code",
   "execution_count": null,
   "outputs": [],
   "source": [],
   "metadata": {
    "collapsed": false
   }
  }
 ],
 "metadata": {
  "kernelspec": {
   "display_name": "Python 3",
   "language": "python",
   "name": "python3"
  },
  "language_info": {
   "codemirror_mode": {
    "name": "ipython",
    "version": 2
   },
   "file_extension": ".py",
   "mimetype": "text/x-python",
   "name": "python",
   "nbconvert_exporter": "python",
   "pygments_lexer": "ipython2",
   "version": "2.7.6"
  }
 },
 "nbformat": 4,
 "nbformat_minor": 0
}
