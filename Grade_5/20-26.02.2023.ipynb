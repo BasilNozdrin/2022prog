{
 "cells": [
  {
   "cell_type": "markdown",
   "source": [
    "# Задание на 22.02.2023\n",
    "\n",
    "## 5 класс\n",
    "\n",
    "### Методы filter, map\n",
    "\n",
    "**На оценку 3** напишите функцию, принимающую список целых чисел и возвращающую список, полученный целочисленным делением на два всех значений.\n",
    "**На оценку 4** напишите функцию, принимающую список целых чисел и возвращающую список, полученный удвоением всех нечетных значений и делением на 2 всех четных. Результирующий список должен содержать только целые числа.\n",
    "**На оценку 5** напишите функцию, которая принимает список целых чисел в качестве аргумента и возвращает список, полученный удалением всех простых чисел из аргумента.\n",
    "\n",
    "Для оценки 5 нужно выполнить все 3 задания."
   ],
   "metadata": {
    "collapsed": false
   }
  },
  {
   "cell_type": "code",
   "execution_count": 1,
   "outputs": [],
   "source": [
    "def a_function(arg):\n",
    "    return arg * 2\n",
    "\n",
    "def b_function(arg):\n",
    "    return arg % 2 == 0"
   ],
   "metadata": {
    "collapsed": false
   }
  },
  {
   "cell_type": "code",
   "execution_count": 2,
   "outputs": [
    {
     "name": "stdout",
     "output_type": "stream",
     "text": [
      "[2, 4, 8, 16, 9]\n",
      "<map object at 0x00000151F31F3010>\n",
      "[4, 8, 16, 32, 18]\n"
     ]
    }
   ],
   "source": [
    "data = [2, 4, 8, 16, 9]\n",
    "\n",
    "map_obj = map(a_function, data)\n",
    "\n",
    "result = list(map_obj)\n",
    "\n",
    "print(data, map_obj, result, sep='\\n')"
   ],
   "metadata": {
    "collapsed": false
   }
  },
  {
   "cell_type": "code",
   "execution_count": 3,
   "outputs": [
    {
     "name": "stdout",
     "output_type": "stream",
     "text": [
      "[2, 4, 8, 16, 9]\n",
      "<map object at 0x00000151F3BC6680>\n",
      "[True, True, True, True, False]\n"
     ]
    }
   ],
   "source": [
    "data = [2, 4, 8, 16, 9]\n",
    "\n",
    "map_obj = map(b_function, data)\n",
    "\n",
    "result = list(map_obj)\n",
    "\n",
    "print(data, map_obj, result, sep='\\n')"
   ],
   "metadata": {
    "collapsed": false
   }
  },
  {
   "cell_type": "code",
   "execution_count": 4,
   "outputs": [
    {
     "name": "stdout",
     "output_type": "stream",
     "text": [
      "[2, 4, 8, 16, 9]\n",
      "<filter object at 0x00000151F3BC7F70>\n",
      "[2, 4, 8, 16]\n"
     ]
    }
   ],
   "source": [
    "data = [2, 4, 8, 16, 9]\n",
    "\n",
    "filter_obj = filter(b_function, data)\n",
    "\n",
    "result = list(filter_obj)\n",
    "\n",
    "print(data, filter_obj, result, sep='\\n')"
   ],
   "metadata": {
    "collapsed": false
   }
  },
  {
   "cell_type": "code",
   "execution_count": null,
   "outputs": [],
   "source": [],
   "metadata": {
    "collapsed": false
   }
  }
 ],
 "metadata": {
  "kernelspec": {
   "display_name": "Python 3",
   "language": "python",
   "name": "python3"
  },
  "language_info": {
   "codemirror_mode": {
    "name": "ipython",
    "version": 2
   },
   "file_extension": ".py",
   "mimetype": "text/x-python",
   "name": "python",
   "nbconvert_exporter": "python",
   "pygments_lexer": "ipython2",
   "version": "2.7.6"
  }
 },
 "nbformat": 4,
 "nbformat_minor": 0
}
