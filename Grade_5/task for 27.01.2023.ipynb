{
 "cells": [
  {
   "cell_type": "markdown",
   "source": [
    "# Задание на 27.01.2023\n",
    "\n",
    "## 5 класс\n",
    "\n",
    "### Практика\n",
    "\n",
    "Решение задач\n",
    "\n",
    "* **На оценку 3** напишите функцию, которая принимает целое число в качестве аргумента и возвращает двумерный массив со стороной заданной длины, заполненный единицами и нулями в форме квадрата.\n",
    "пример:\n",
    "```\n",
    "result = [\n",
    "    [1, 1, 1, 1, 1, 1, 1],\n",
    "    [1, 0, 0, 0, 0, 0, 1],\n",
    "    [1, 0, 0, 0, 0, 0, 1],\n",
    "    [1, 0, 0, 0, 0, 0, 1],\n",
    "    [1, 0, 0, 0, 0, 0, 1],\n",
    "    [1, 0, 0, 0, 0, 0, 1],\n",
    "    [1, 1, 1, 1, 1, 1, 1]\n",
    "]\n",
    "```\n",
    "* **На оценку 4** напишите функцию, которая принимает двумерный массив чисел в качестве аргумента и возвращает список из наибольших элементов каждой строки.\n",
    "* **На оценку 5** напишите функцию, которая принимает двумерный массив чисел в качестве аргумента и возвращает списком диагональные элементы."
   ],
   "metadata": {
    "collapsed": false
   }
  },
  {
   "cell_type": "code",
   "execution_count": 23,
   "outputs": [
    {
     "name": "stdout",
     "output_type": "stream",
     "text": [
      "[1, 4, 7]\n"
     ]
    }
   ],
   "source": [
    "a = [[1, 2, 3], [4, 5, 6], [7, 8, 9]]\n",
    "\n",
    "def first_column(data):\n",
    "    return list(map(lambda row: row[0],data))\n",
    "\n",
    "print(first_column(a))"
   ],
   "metadata": {
    "collapsed": false
   }
  },
  {
   "cell_type": "code",
   "execution_count": 12,
   "outputs": [
    {
     "name": "stdout",
     "output_type": "stream",
     "text": [
      "[(0, [1, 2, 3]), (1, [4, 5, 6]), (2, [7, 8, 9])]\n",
      "0 [1, 2, 3]\n",
      "1 [4, 5, 6]\n",
      "2 [7, 8, 9]\n",
      "[4, 5, 6] 5\n"
     ]
    }
   ],
   "source": [
    "a = [\n",
    "    [1, 2, 3],\n",
    "    [4, 5, 6],\n",
    "    [7, 8, 9]\n",
    "]\n",
    "\n",
    "def f(data):\n",
    "    return list(enumerate(data))\n",
    "\n",
    "print(f(a))\n",
    "\n",
    "for idx, x in enumerate(a):\n",
    "    print(idx, x)\n",
    "\n",
    "print(a[1], a[1][1])"
   ],
   "metadata": {
    "collapsed": false
   }
  },
  {
   "cell_type": "code",
   "execution_count": 19,
   "outputs": [
    {
     "name": "stdout",
     "output_type": "stream",
     "text": [
      "0: [1, 2, 3]\n",
      "1: [4, 5, 6]\n",
      "2: [7, 8, 9]\n"
     ]
    }
   ],
   "source": [
    "a = [\n",
    "    [1, 2, 3],\n",
    "    [4, 5, 6],\n",
    "    [7, 8, 9]\n",
    "]\n",
    "\n",
    "def f(data):\n",
    "    return list(map(lambda row: f'{row[0]}: {row[1]}', enumerate(data)))\n",
    "\n",
    "for x in f(a):\n",
    "    print(x)"
   ],
   "metadata": {
    "collapsed": false
   }
  },
  {
   "cell_type": "code",
   "execution_count": 22,
   "outputs": [
    {
     "data": {
      "text/plain": "(50, 1)"
     },
     "execution_count": 22,
     "metadata": {},
     "output_type": "execute_result"
    }
   ],
   "source": [
    "b = [1, 50, 30, 20, 4]\n",
    "\n",
    "(max(b), min(b))"
   ],
   "metadata": {
    "collapsed": false
   }
  },
  {
   "cell_type": "code",
   "execution_count": null,
   "outputs": [],
   "source": [],
   "metadata": {
    "collapsed": false
   }
  }
 ],
 "metadata": {
  "kernelspec": {
   "display_name": "Python 3",
   "language": "python",
   "name": "python3"
  },
  "language_info": {
   "codemirror_mode": {
    "name": "ipython",
    "version": 2
   },
   "file_extension": ".py",
   "mimetype": "text/x-python",
   "name": "python",
   "nbconvert_exporter": "python",
   "pygments_lexer": "ipython2",
   "version": "2.7.6"
  }
 },
 "nbformat": 4,
 "nbformat_minor": 0
}
