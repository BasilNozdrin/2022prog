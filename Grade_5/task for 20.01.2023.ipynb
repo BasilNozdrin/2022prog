{
 "cells": [
  {
   "cell_type": "markdown",
   "id": "ec5db6f8",
   "metadata": {},
   "source": [
    "# Задание на 20.01.2023"
   ]
  },
  {
   "cell_type": "markdown",
   "id": "bab9cd9c",
   "metadata": {},
   "source": [
    "## 5 класс  \n",
    "\n",
    "### Практика\n",
    "\n",
    "Решение задач\n",
    "\n",
    "* **На оценку 3** напишите функцию, которая принимает список чисел и заменяет все элементы списка на противоположные по знаку.\n",
    "* **На оценку 4** напишите функцию, которая принимает список чисел и вычисляет сумму всех четных элементов.\n",
    "* **На оценку 5** задача нормирования данных. Пусть задан некоторый список чисел. Необходимо вычесть их всех элементов минимальный и потом поделить все значения на наибольшее значение. Таким образом результирующий список должен содержать значения только из промежутка от 0 до 1. Напишите функцию, которая принимает список в качестве аргумента и возвращает преобразованный список."
   ]
  },
  {
   "cell_type": "code",
   "execution_count": 2,
   "outputs": [],
   "source": [
    "def road_to_2023(target: int):\n",
    "    \"\"\"\n",
    "    В качестве напоминания привожу пример функции, которая принимает некоторое число и возвращает список целых чисел от 2023 до заданного числа.\n",
    "    \"\"\"\n",
    "    if target <= 2023:\n",
    "        return list(range(target, 2023))\n",
    "    else:\n",
    "        print(\"target needs to be less than 2023\")\n"
   ],
   "metadata": {
    "collapsed": false
   }
  },
  {
   "cell_type": "code",
   "execution_count": null,
   "outputs": [],
   "source": [],
   "metadata": {
    "collapsed": false
   }
  }
 ],
 "metadata": {
  "kernelspec": {
   "display_name": "Python 3 (ipykernel)",
   "language": "python",
   "name": "python3"
  },
  "language_info": {
   "codemirror_mode": {
    "name": "ipython",
    "version": 3
   },
   "file_extension": ".py",
   "mimetype": "text/x-python",
   "name": "python",
   "nbconvert_exporter": "python",
   "pygments_lexer": "ipython3",
   "version": "3.11.0"
  }
 },
 "nbformat": 4,
 "nbformat_minor": 5
}
