{
 "cells": [
  {
   "cell_type": "markdown",
   "id": "ec5db6f8",
   "metadata": {},
   "source": [
    "# Задание на 20.01.2023"
   ]
  },
  {
   "cell_type": "markdown",
   "id": "bab9cd9c",
   "metadata": {},
   "source": [
    "## 5 класс  \n",
    "\n",
    "### Практика\n",
    "\n",
    "Решение задач\n",
    "\n",
    "* **На оценку 3** напишите функцию, которая принимает список чисел и заменяет все элементы списка на противоположные по знаку.\n",
    "* **На оценку 4** напишите функцию, которая принимает список чисел и вычисляет сумму всех четных элементов.\n",
    "* **На оценку 5** задача нормирования данных. Пусть задан некоторый список чисел. Необходимо вычесть из всех элементов минимальный и потом поделить все значения на наибольшее значение. Таким образом результирующий список должен содержать значения только из промежутка от 0 до 1. Напишите функцию, которая принимает список в качестве аргумента и возвращает преобразованный список."
   ]
  },
  {
   "cell_type": "code",
   "execution_count": 2,
   "outputs": [],
   "source": [
    "def road_to_2023(target: int):\n",
    "    \"\"\"\n",
    "    В качестве напоминания привожу пример функции, которая принимает некоторое число и возвращает список целых чисел от 2023 до заданного числа.\n",
    "    \"\"\"\n",
    "    if target <= 2023:\n",
    "        return list(range(target, 2023))\n",
    "    else:\n",
    "        print(\"target needs to be less than 2023\")\n"
   ],
   "metadata": {
    "collapsed": false
   }
  },
  {
   "cell_type": "code",
   "execution_count": 4,
   "outputs": [
    {
     "name": "stdout",
     "output_type": "stream",
     "text": [
      "[2000, 2001, 2002, 2003, 2004, 2005, 2006, 2007, 2008, 2009, 2010, 2011, 2012, 2013, 2014, 2015, 2016, 2017, 2018, 2019, 2020, 2021, 2022]\n"
     ]
    }
   ],
   "source": [
    "print(road_to_2023(2000))"
   ],
   "metadata": {
    "collapsed": false
   }
  },
  {
   "cell_type": "code",
   "execution_count": 5,
   "outputs": [],
   "source": [
    "a = [1, 2, 3, 4, 5, 6]\n",
    "# ->[0, 1, 2, 3, 4, 5]\n",
    "# ->[0, 0.2, 0.4, 0.6, 0.8, 1]"
   ],
   "metadata": {
    "collapsed": false
   }
  },
  {
   "cell_type": "code",
   "execution_count": 11,
   "outputs": [],
   "source": [
    "def norm(data):\n",
    "    return data + [1]"
   ],
   "metadata": {
    "collapsed": false
   }
  },
  {
   "cell_type": "code",
   "execution_count": 12,
   "outputs": [
    {
     "name": "stdout",
     "output_type": "stream",
     "text": [
      "[1, 2, 3, 1]\n"
     ]
    }
   ],
   "source": [
    "x = [1, 2, 3]\n",
    "\n",
    "print(norm(x))"
   ],
   "metadata": {
    "collapsed": false
   }
  },
  {
   "cell_type": "code",
   "execution_count": null,
   "outputs": [],
   "source": [],
   "metadata": {
    "collapsed": false
   }
  }
 ],
 "metadata": {
  "kernelspec": {
   "display_name": "Python 3 (ipykernel)",
   "language": "python",
   "name": "python3"
  },
  "language_info": {
   "codemirror_mode": {
    "name": "ipython",
    "version": 3
   },
   "file_extension": ".py",
   "mimetype": "text/x-python",
   "name": "python",
   "nbconvert_exporter": "python",
   "pygments_lexer": "ipython3",
   "version": "3.11.0"
  }
 },
 "nbformat": 4,
 "nbformat_minor": 5
}
