{
 "cells": [
  {
   "cell_type": "markdown",
   "source": [
    "# Задание на 01.03.2023\n",
    "\n",
    "## 5 класс\n",
    "\n",
    "### Проверка упорядоченности, решение задач\n",
    "\n",
    "**На оценку 3** напишите функцию, принимающую список целых чисел и возвращающую `True`, если список упорядочен. В противном случае функция должна возвращать `False`.\n",
    "\n",
    "**На оценку 4** реализуйте сортировку пузырьком для списка целых чисел.\n",
    "\n",
    "**На оценку 5** реализуйте быструю сортировку для списка целых чисел.\n",
    "\n",
    "\n",
    "Для оценки 5 нужно выполнить все 3 задания."
   ],
   "metadata": {
    "collapsed": false
   }
  },
  {
   "cell_type": "code",
   "execution_count": null,
   "outputs": [],
   "source": [],
   "metadata": {
    "collapsed": false
   }
  }
 ],
 "metadata": {
  "kernelspec": {
   "display_name": "Python 3",
   "language": "python",
   "name": "python3"
  },
  "language_info": {
   "codemirror_mode": {
    "name": "ipython",
    "version": 2
   },
   "file_extension": ".py",
   "mimetype": "text/x-python",
   "name": "python",
   "nbconvert_exporter": "python",
   "pygments_lexer": "ipython2",
   "version": "2.7.6"
  }
 },
 "nbformat": 4,
 "nbformat_minor": 0
}
