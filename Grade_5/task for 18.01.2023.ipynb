{
 "cells": [
  {
   "cell_type": "markdown",
   "id": "ec5db6f8",
   "metadata": {},
   "source": [
    "# Задание на 18.01.2023"
   ]
  },
  {
   "cell_type": "markdown",
   "id": "bab9cd9c",
   "metadata": {},
   "source": [
    "## 5 класс  \n",
    "\n",
    "### Теория\n",
    "\n",
    "**Тема занятия: lambda выражения в Python, функции map и filter.**\n",
    "\n",
    "Рассмотрим пример. Ниже описана функция, которая принимает в качестве аргумента число и возвращает значение вдвое больше аргумента.\n"
   ]
  },
  {
   "cell_type": "code",
   "execution_count": 11,
   "outputs": [
    {
     "name": "stdout",
     "output_type": "stream",
     "text": [
      "22\n"
     ]
    }
   ],
   "source": [
    "def multiply(number):\n",
    "    result = number * 2\n",
    "    return result\n",
    "\n",
    "print(multiply(11))"
   ],
   "metadata": {
    "collapsed": false
   }
  },
  {
   "cell_type": "markdown",
   "source": [
    "Эта функция довольно простая и ее можно переписать иначе"
   ],
   "metadata": {
    "collapsed": false
   }
  },
  {
   "cell_type": "code",
   "execution_count": 12,
   "outputs": [
    {
     "name": "stdout",
     "output_type": "stream",
     "text": [
      "22\n"
     ]
    }
   ],
   "source": [
    "def multiply(x):\n",
    "    return x * 2\n",
    "\n",
    "print(multiply(11))"
   ],
   "metadata": {
    "collapsed": false
   }
  },
  {
   "cell_type": "markdown",
   "source": [
    "Иногда бывает полезно создавать такого вида простые функции и в Python для этого есть специальная конструкция. Следующая запись создает точно такую же функцию multiply, как в двух предыдущих примерах."
   ],
   "metadata": {
    "collapsed": false
   }
  },
  {
   "cell_type": "code",
   "execution_count": 13,
   "outputs": [
    {
     "name": "stdout",
     "output_type": "stream",
     "text": [
      "22\n"
     ]
    }
   ],
   "source": [
    "multiply = lambda x: x * 2\n",
    "\n",
    "print(multiply(11))"
   ],
   "metadata": {
    "collapsed": false
   }
  },
  {
   "cell_type": "markdown",
   "source": [
    "Однако чаще всего такие выражения используют в так называемых *функциях высшего порядка*. Это такие функции, которые в качестве аргумента принимают функции. Одна из таких функций высшего порядка - `map`. Эта функция принимает в качестве аргумента функцию и список. Далее функция применяется к каждому элементу списка, и возвращаемые значения заносятся в новый список.\n",
    "\n",
    "Проще всего разобраться с помощью примеров."
   ],
   "metadata": {
    "collapsed": false
   }
  },
  {
   "cell_type": "code",
   "execution_count": 14,
   "outputs": [
    {
     "name": "stdout",
     "output_type": "stream",
     "text": [
      "<map object at 0x0000022A96DD0AF0>\n"
     ]
    }
   ],
   "source": [
    "a = [1, 2, 3, 4, 5, 6, 7]       # создаем список чисел\n",
    "\n",
    "b = map(lambda x: x * 2, a)     # умножаем все элементы списка на 2\n",
    "print(b)                        # выведем на экран содержимое"
   ],
   "metadata": {
    "collapsed": false
   }
  },
  {
   "cell_type": "markdown",
   "source": [
    "На экран выводится что-то не очень дружелюбное. Это объект в памяти, тут даже адрес его написан. Чтобы получить данные из этого объекта, можно преобразовать его в список."
   ],
   "metadata": {
    "collapsed": false
   }
  },
  {
   "cell_type": "code",
   "execution_count": 15,
   "outputs": [
    {
     "name": "stdout",
     "output_type": "stream",
     "text": [
      "[2, 4, 6, 8, 10, 12, 14]\n"
     ]
    }
   ],
   "source": [
    "c = list(b)                     # преобразуем map object к типу list\n",
    "print(c)                        # выводим на экран список"
   ],
   "metadata": {
    "collapsed": false
   }
  },
  {
   "cell_type": "markdown",
   "source": [
    "На практике зачастую такие преобразования пишут в одну строку."
   ],
   "metadata": {
    "collapsed": false
   }
  },
  {
   "cell_type": "code",
   "execution_count": 16,
   "outputs": [
    {
     "name": "stdout",
     "output_type": "stream",
     "text": [
      "[2, 4, 6, 8, 10, 12, 14]\n"
     ]
    }
   ],
   "source": [
    "fast = list(map(lambda x: x * 2, a))\n",
    "print(fast)"
   ],
   "metadata": {
    "collapsed": false
   }
  },
  {
   "cell_type": "markdown",
   "source": [
    "Теперь приведу пример, где такая операция может пригодиться в реальной жизни. Пусть у меня есть магазин, в котором я выставляю товар и ценники в моем магазине отображаются в рублях. Однако, товары я закупаю в Китае, потому ценник формируется по следующей формуле *цена в юанях*\\**курс юаня к рублю*\\*комиссия магазина*. Тогда имея список цен в юанях можно легко вычислить список цен в рублях для магазина. Код будет выглядеть следующим образом."
   ],
   "metadata": {
    "collapsed": false
   }
  },
  {
   "cell_type": "code",
   "execution_count": 17,
   "outputs": [
    {
     "name": "stdout",
     "output_type": "stream",
     "text": [
      "[20, 50, 100]\n",
      "[223.74000000000004, 559.35, 1118.7]\n"
     ]
    }
   ],
   "source": [
    "china_prices = [20, 50, 100]    # список с ценами в юанях\n",
    "cny_to_rub = 10.17\n",
    "russia_prices = list(map(lambda price: price*cny_to_rub*1.1, china_prices))\n",
    "\n",
    "print(china_prices, russia_prices, sep='\\n')"
   ],
   "metadata": {
    "collapsed": false
   }
  },
  {
   "cell_type": "markdown",
   "source": [
    "Вот вроде все хорошо, однако мы получили странный ценник для первого элемента в списке. Добавим округление до второго знака после запятой с помощью функции `round`."
   ],
   "metadata": {
    "collapsed": false
   }
  },
  {
   "cell_type": "code",
   "execution_count": 18,
   "outputs": [
    {
     "name": "stdout",
     "output_type": "stream",
     "text": [
      "[20, 50, 100]\n",
      "[223.74, 559.35, 1118.7]\n"
     ]
    }
   ],
   "source": [
    "china_prices = [20, 50, 100]    # список с ценами в юанях\n",
    "cny_to_rub = 10.17\n",
    "russia_prices = list(map(lambda price: round(price*cny_to_rub*1.1, 2), china_prices))\n",
    "\n",
    "print(china_prices, russia_prices, sep='\\n')"
   ],
   "metadata": {
    "collapsed": false
   }
  },
  {
   "cell_type": "markdown",
   "source": [
    "Теперь познакомимся с функцией filter. Она делает похожее действие, как и функция map, только если map применяет функцию и все результаты возвращает в качестве списка, то функция filter результаты воспринимает как логические значения истина/ложь, `true` или `false`. Функция filter отбирает из списка только те значения, для которых передаваемая функция вернет `true`, то есть истину. Ниже написан пример, когда из списка выбираются все положительные элементы, которые делятся на 3."
   ],
   "metadata": {
    "collapsed": false
   }
  },
  {
   "cell_type": "code",
   "execution_count": 19,
   "outputs": [
    {
     "name": "stdout",
     "output_type": "stream",
     "text": [
      "[-20, -19, -18, -17, -16, -15, -14, -13, -12, -11, -10, -9, -8, -7, -6, -5, -4, -3, -2, -1, 0, 1, 2, 3, 4, 5, 6, 7, 8, 9, 10, 11, 12, 13, 14, 15, 16, 17, 18, 19, 20]\n"
     ]
    }
   ],
   "source": [
    "data = list(range(-20, 21))\n",
    "print(data)"
   ],
   "metadata": {
    "collapsed": false
   }
  },
  {
   "cell_type": "code",
   "execution_count": 20,
   "outputs": [
    {
     "name": "stdout",
     "output_type": "stream",
     "text": [
      "[3, 6, 9, 12, 15, 18]\n"
     ]
    }
   ],
   "source": [
    "print(list(filter(lambda x: x > 0 and x % 3 == 0, data)))"
   ],
   "metadata": {
    "collapsed": false
   }
  },
  {
   "cell_type": "markdown",
   "source": [
    "Во-первых, `filter` возвращает объект типа `filter object`, потому его аналогично как с `map`, преобразуем его к списку.\n",
    "Функция аргумент описана lambda-выражением `labmda x: x > 0 and x % 3 == 0`. Выражение `x % 3` вычисляет остаток от деления `x` на 3. Выражение `x % 3 == 0` сравнивает остаток с нулем, что есть проверка на делимость на три."
   ],
   "metadata": {
    "collapsed": false
   }
  },
  {
   "cell_type": "markdown",
   "source": [
    "### Практика\n",
    "\n",
    "Запустите примеры из теории, напишите программу, которая использует map и filter для того, чтобы убрать из списка четные элементы и уменьшить все значения на 2023.\n",
    "\n",
    "На нашем Discord сервере можно задавать вопросы (ссылка для приглашения: [https://discord.gg/3rJsVg9Ye8](https://discord.gg/3rJsVg9Ye8))."
   ],
   "metadata": {
    "collapsed": false
   }
  }
 ],
 "metadata": {
  "kernelspec": {
   "display_name": "Python 3 (ipykernel)",
   "language": "python",
   "name": "python3"
  },
  "language_info": {
   "codemirror_mode": {
    "name": "ipython",
    "version": 3
   },
   "file_extension": ".py",
   "mimetype": "text/x-python",
   "name": "python",
   "nbconvert_exporter": "python",
   "pygments_lexer": "ipython3",
   "version": "3.11.0"
  }
 },
 "nbformat": 4,
 "nbformat_minor": 5
}
