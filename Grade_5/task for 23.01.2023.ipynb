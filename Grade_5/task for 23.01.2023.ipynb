{
 "cells": [
  {
   "cell_type": "markdown",
   "source": [
    "# Задание на 23.01.2023\n",
    "\n",
    "## 5 класс\n",
    "\n",
    "### Теория\n",
    "\n",
    "Двумерные массивы"
   ],
   "metadata": {
    "collapsed": false
   }
  },
  {
   "cell_type": "code",
   "execution_count": null,
   "outputs": [],
   "source": [
    "list1 = []\n",
    "\n",
    "print(list1)            # []\n",
    "\n",
    "list1.append(1)\n",
    "list1.append(2)\n",
    "\n",
    "print(list1)            # [1, 2]\n",
    "\n",
    "list1.append(3)\n",
    "list1.append(4)\n",
    "\n",
    "print(list1)            # [1, 2, 3, 4]\n",
    "\n",
    "print(*list1)           # 1 2 3 4\n",
    "\n",
    "# print 1 4 3\n",
    "print(list1[0], list1[3], list1[2])"
   ],
   "metadata": {
    "collapsed": false,
    "pycharm": {
     "is_executing": true
    }
   }
  },
  {
   "cell_type": "code",
   "execution_count": null,
   "outputs": [],
   "source": [
    "a = [1, 2, 3, 4, 5, 6]\n",
    "\n",
    "b = [\n",
    "    [[1 , 2, 3, 4], 2, 3, 4, 5],\n",
    "    [6, 7, 8, 9, 10],\n",
    "    [11, 12, 13, 14 ,15],\n",
    "    [16, 17, 18, 19, 20]\n",
    "]\n",
    "\n",
    "print(b)\n",
    "\n",
    "print(b[2])\n",
    "\n",
    "print(b[2][3])"
   ],
   "metadata": {
    "collapsed": false
   }
  },
  {
   "cell_type": "code",
   "execution_count": null,
   "outputs": [],
   "source": [
    "b.append(9999)"
   ],
   "metadata": {
    "collapsed": false
   }
  },
  {
   "cell_type": "code",
   "execution_count": null,
   "outputs": [],
   "source": [
    "print(b)"
   ],
   "metadata": {
    "collapsed": false
   }
  },
  {
   "cell_type": "code",
   "execution_count": null,
   "outputs": [],
   "source": [
    "s = []\n",
    "\n",
    "for i in range(10):\n",
    "    s.append(2*i)\n",
    "\n",
    "print(s)"
   ],
   "metadata": {
    "collapsed": false
   }
  },
  {
   "cell_type": "code",
   "execution_count": null,
   "outputs": [],
   "source": [
    "for i in range(10):\n",
    "    print(i)"
   ],
   "metadata": {
    "collapsed": false
   }
  },
  {
   "cell_type": "code",
   "execution_count": null,
   "outputs": [],
   "source": [
    "for i in range(5, 10):\n",
    "    print(i)"
   ],
   "metadata": {
    "collapsed": false
   }
  },
  {
   "cell_type": "code",
   "execution_count": null,
   "outputs": [],
   "source": [
    "for i in range(5, 10, 2):\n",
    "    print(i)"
   ],
   "metadata": {
    "collapsed": false
   }
  },
  {
   "cell_type": "code",
   "execution_count": null,
   "outputs": [],
   "source": [
    "s = []\n",
    "\n",
    "for i in range(10):\n",
    "    # i -> [0, 1, 2, 3, ..., 9]\n",
    "    s.append([])\n",
    "\n",
    "    for minecraft in range(0, 20, 2):\n",
    "        # minecraft -> [0, 2, 4, 6, ..., 18]\n",
    "        s[i].append(i*minecraft)\n",
    "\n",
    "\n",
    "for row in s:\n",
    "    print(*row)\n"
   ],
   "metadata": {
    "collapsed": false
   }
  },
  {
   "cell_type": "code",
   "execution_count": null,
   "outputs": [],
   "source": [
    "# 0 0 0 0 0 0 0 0\n",
    "# 1 0 0 0 0 0 0 0\n",
    "# 1 1 0 0 0 0 0 0\n",
    "# 1 1 1 0 0 0 0 0\n",
    "# 1 1 1 1 0 0 0 0\n",
    "# ...\n",
    "# 1 1 1 1 1 1 1 0\n",
    "\n",
    "a = [\n",
    "    [0, 0, 0],\n",
    "    [1, 0, 0],\n",
    "    [1, 1, 0]\n",
    "]"
   ],
   "metadata": {
    "collapsed": false
   }
  },
  {
   "cell_type": "code",
   "execution_count": null,
   "outputs": [],
   "source": [
    "example = [1] * 5 + [0] * 7\n",
    "print(example)"
   ],
   "metadata": {
    "collapsed": false
   }
  },
  {
   "cell_type": "code",
   "execution_count": null,
   "outputs": [],
   "source": [],
   "metadata": {
    "collapsed": false
   }
  }
 ],
 "metadata": {
  "kernelspec": {
   "display_name": "Python 3",
   "language": "python",
   "name": "python3"
  },
  "language_info": {
   "codemirror_mode": {
    "name": "ipython",
    "version": 2
   },
   "file_extension": ".py",
   "mimetype": "text/x-python",
   "name": "python",
   "nbconvert_exporter": "python",
   "pygments_lexer": "ipython2",
   "version": "2.7.6"
  }
 },
 "nbformat": 4,
 "nbformat_minor": 0
}
