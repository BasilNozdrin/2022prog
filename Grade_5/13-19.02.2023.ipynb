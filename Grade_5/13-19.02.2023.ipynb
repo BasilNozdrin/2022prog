{
 "cells": [
  {
   "cell_type": "markdown",
   "source": [
    "# Задание на 8, 10.02.2023\n",
    "\n",
    "## 5 класс\n",
    "\n",
    "### Теория\n",
    "\n",
    "**Тема занятия: Проверить что все элементы списка удовлетворяют определенному свойству. Подсчитать количество элементов списка, удовлетворяющих определенному свойству.**\n",
    "\n",
    "\n",
    "\n"
   ],
   "metadata": {
    "collapsed": false
   }
  },
  {
   "cell_type": "code",
   "execution_count": 2,
   "outputs": [
    {
     "name": "stdout",
     "output_type": "stream",
     "text": [
      "[(1, 1), (-1, 1), (2, 4), (3, 9), (-2, 5), (2, 1)]\n",
      "[True, True, True, True, False, True]\n",
      "[True, True, True, True, True, False]\n"
     ]
    }
   ],
   "source": [
    "data1 = [\n",
    "    (1, 1),\n",
    "    (-1, 1),\n",
    "    (2, 4),\n",
    "    (3, 9),\n",
    "    (-2, 5),\n",
    "    (2, 1)\n",
    "]\n",
    "\n",
    "print(\n",
    "    data1,\n",
    "    list(map(lambda pair: pair[1] <= pair[0]**2, data1)),\n",
    "    list(map(lambda pair: pair[1] >= pair[0]**2, data1)),\n",
    "    sep='\\n'\n",
    ")"
   ],
   "metadata": {
    "collapsed": false
   }
  },
  {
   "cell_type": "code",
   "execution_count": 3,
   "outputs": [
    {
     "name": "stdout",
     "output_type": "stream",
     "text": [
      "False\n",
      "True\n",
      "True\n",
      "False\n"
     ]
    }
   ],
   "source": [
    "print(all([True, True, True, True, False, True]))\n",
    "print(all([True, True, True, True, True, True]))\n",
    "print(any([True, True, True, True, False, True]))\n",
    "print(all([False, False, False, False, False, False]))"
   ],
   "metadata": {
    "collapsed": false
   }
  },
  {
   "cell_type": "code",
   "execution_count": 4,
   "outputs": [
    {
     "name": "stdout",
     "output_type": "stream",
     "text": [
      "[(1, 1), (-1, 1), (2, 4), (3, 9), (-2, 5), (2, 1)]\n",
      "[True, True, True, True, False, True]\n",
      "[(1, 1), (-1, 1), (2, 4), (3, 9), (2, 1)]\n",
      "5\n"
     ]
    }
   ],
   "source": [
    "print(\n",
    "    data1,\n",
    "    list(map(lambda pair: pair[1] <= pair[0]**2, data1)),\n",
    "    list(filter(lambda pair: pair[1] <= pair[0]**2, data1)),\n",
    "    len(list(filter(lambda pair: pair[1] <= pair[0]**2, data1))),\n",
    "    sep='\\n'\n",
    ")"
   ],
   "metadata": {
    "collapsed": false
   }
  },
  {
   "cell_type": "code",
   "execution_count": null,
   "outputs": [],
   "source": [],
   "metadata": {
    "collapsed": false
   }
  }
 ],
 "metadata": {
  "kernelspec": {
   "display_name": "Python 3",
   "language": "python",
   "name": "python3"
  },
  "language_info": {
   "codemirror_mode": {
    "name": "ipython",
    "version": 2
   },
   "file_extension": ".py",
   "mimetype": "text/x-python",
   "name": "python",
   "nbconvert_exporter": "python",
   "pygments_lexer": "ipython2",
   "version": "2.7.6"
  }
 },
 "nbformat": 4,
 "nbformat_minor": 0
}
