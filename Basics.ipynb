{
 "cells": [
  {
   "cell_type": "markdown",
   "id": "6520d178",
   "metadata": {},
   "source": [
    "# Введение в Python  \n",
    "\n",
    "## Базовый синтаксис  \n",
    "\n",
    "### Переменные  \n",
    "\n",
    "В Python в отличие от многих других языков программирования (ЯП) типизация динамическая и потому типы явно не указываются. Но это еще не занчит, что типов нет."
   ]
  },
  {
   "cell_type": "code",
   "execution_count": 1,
   "id": "67103917",
   "metadata": {},
   "outputs": [
    {
     "data": {
      "text/plain": [
       "1"
      ]
     },
     "execution_count": 1,
     "metadata": {},
     "output_type": "execute_result"
    }
   ],
   "source": [
    "x = 1\n",
    "x"
   ]
  },
  {
   "cell_type": "code",
   "execution_count": 2,
   "id": "e2b69b65",
   "metadata": {},
   "outputs": [
    {
     "data": {
      "text/plain": [
       "6"
      ]
     },
     "execution_count": 2,
     "metadata": {},
     "output_type": "execute_result"
    }
   ],
   "source": [
    "x = x + 5\n",
    "x"
   ]
  },
  {
   "cell_type": "code",
   "execution_count": 3,
   "id": "a391bf96",
   "metadata": {},
   "outputs": [
    {
     "data": {
      "text/plain": [
       "int"
      ]
     },
     "execution_count": 3,
     "metadata": {},
     "output_type": "execute_result"
    }
   ],
   "source": [
    "type(x)"
   ]
  },
  {
   "cell_type": "code",
   "execution_count": 4,
   "id": "79a485ea",
   "metadata": {},
   "outputs": [
    {
     "data": {
      "text/plain": [
       "float"
      ]
     },
     "execution_count": 4,
     "metadata": {},
     "output_type": "execute_result"
    }
   ],
   "source": [
    "type(0.5)"
   ]
  },
  {
   "cell_type": "code",
   "execution_count": 5,
   "id": "ceb1a72c",
   "metadata": {},
   "outputs": [
    {
     "data": {
      "text/plain": [
       "bool"
      ]
     },
     "execution_count": 5,
     "metadata": {},
     "output_type": "execute_result"
    }
   ],
   "source": [
    "x = True\n",
    "type(x)"
   ]
  },
  {
   "cell_type": "code",
   "execution_count": 6,
   "id": "a53b28f3",
   "metadata": {},
   "outputs": [
    {
     "data": {
      "text/plain": [
       "str"
      ]
     },
     "execution_count": 6,
     "metadata": {},
     "output_type": "execute_result"
    }
   ],
   "source": [
    "x = 'Hello'\n",
    "type(x)"
   ]
  },
  {
   "cell_type": "markdown",
   "id": "62a8a565",
   "metadata": {},
   "source": [
    "Для создания срок можно использовать как двойные ковычки \"...\", так и одинарные '...'."
   ]
  },
  {
   "cell_type": "code",
   "execution_count": 7,
   "id": "ccfebc04",
   "metadata": {},
   "outputs": [
    {
     "data": {
      "text/plain": [
       "'Hello world'"
      ]
     },
     "execution_count": 7,
     "metadata": {},
     "output_type": "execute_result"
    }
   ],
   "source": [
    "x = x + \" world\"\n",
    "x"
   ]
  },
  {
   "cell_type": "code",
   "execution_count": 8,
   "id": "4cdef9b3",
   "metadata": {},
   "outputs": [],
   "source": [
    "x += '!'"
   ]
  },
  {
   "cell_type": "markdown",
   "id": "f80a7c3c",
   "metadata": {},
   "source": [
    "### Пользовательский ввод и вывод текста на экран"
   ]
  },
  {
   "cell_type": "markdown",
   "id": "ab5571b3",
   "metadata": {},
   "source": [
    "Для вывода текста на экран используется функция `print`"
   ]
  },
  {
   "cell_type": "code",
   "execution_count": 9,
   "id": "350bf287",
   "metadata": {},
   "outputs": [
    {
     "name": "stdout",
     "output_type": "stream",
     "text": [
      "Hello world!\n"
     ]
    }
   ],
   "source": [
    "print(x)"
   ]
  },
  {
   "cell_type": "markdown",
   "id": "30434c95",
   "metadata": {},
   "source": [
    "Для чтения пользовательского ввода используется функция `input`"
   ]
  },
  {
   "cell_type": "code",
   "execution_count": 10,
   "id": "4212afcb",
   "metadata": {},
   "outputs": [
    {
     "name": "stdout",
     "output_type": "stream",
     "text": [
      "Я ввел этот текст с клавиатуры\n"
     ]
    }
   ],
   "source": [
    "x = input()"
   ]
  },
  {
   "cell_type": "code",
   "execution_count": 11,
   "id": "c5705b70",
   "metadata": {},
   "outputs": [
    {
     "name": "stdout",
     "output_type": "stream",
     "text": [
      "Я ввел этот текст с клавиатуры\n"
     ]
    }
   ],
   "source": [
    "print(x)"
   ]
  },
  {
   "cell_type": "markdown",
   "id": "edce05c4",
   "metadata": {},
   "source": [
    "Python язык интерпретируемый, то есть программы можно выполнять построчно, в консоли. Возможна также компиляция и выполнение программы, запуском целого файла с кодом.  \n",
    "\n",
    "В консоли можно вызывать метод `__repr__` от некоторых объектов (переменных в нашем случае). Для этого достаточно просто написать имя переменной и нажать *Enter*. На экран будет выведено значение переменной. Ниже приведен пример:"
   ]
  },
  {
   "cell_type": "code",
   "execution_count": 12,
   "id": "82718089",
   "metadata": {},
   "outputs": [
    {
     "data": {
      "text/plain": [
       "'Я ввел этот текст с клавиатуры'"
      ]
     },
     "execution_count": 12,
     "metadata": {},
     "output_type": "execute_result"
    }
   ],
   "source": [
    "x"
   ]
  },
  {
   "cell_type": "code",
   "execution_count": 13,
   "id": "cc7eae2b",
   "metadata": {},
   "outputs": [
    {
     "data": {
      "text/plain": [
       "\"'Я ввел этот текст с клавиатуры'\""
      ]
     },
     "execution_count": 13,
     "metadata": {},
     "output_type": "execute_result"
    }
   ],
   "source": [
    "x.__repr__()"
   ]
  },
  {
   "cell_type": "markdown",
   "id": "910fec80",
   "metadata": {},
   "source": [
    "### Управляющие конструкции.\n",
    "\n",
    "#### Условный оператор."
   ]
  },
  {
   "cell_type": "markdown",
   "id": "dd3babf6",
   "metadata": {},
   "source": [
    "Для создания логики в программах нужно использовать условный оператор `if`."
   ]
  },
  {
   "cell_type": "code",
   "execution_count": 14,
   "id": "99e3b002",
   "metadata": {},
   "outputs": [
    {
     "name": "stdout",
     "output_type": "stream",
     "text": [
      "Введите свой возраст: 21\n",
      "Вы достигли совершеннолетия\n"
     ]
    }
   ],
   "source": [
    "age = int(input('Введите свой возраст: '))\n",
    "\n",
    "if age < 0:\n",
    "    print('Видимо, вы еще не родились')\n",
    "elif age < 18:\n",
    "    print('Вы еще ребенок')\n",
    "else:\n",
    "    print('Вы достигли совершеннолетия')\n"
   ]
  },
  {
   "cell_type": "markdown",
   "id": "fd79b9cf",
   "metadata": {},
   "source": [
    "Оператор `if` имеет следующий синтаксис:\n",
    "\n",
    "`if %условие%:`  \n",
    "`    %действия_1%`  \n",
    "`else:`  \n",
    "`    %действия_2%`\n",
    "\n",
    "Если условие истино, выполняются действия из блока `%действия_1%`. Иначе выполняются действия из блока `%действия_2%`.\n",
    "Блок `else` не обязательный."
   ]
  },
  {
   "cell_type": "code",
   "execution_count": 15,
   "id": "4a16efd6",
   "metadata": {},
   "outputs": [
    {
     "name": "stdout",
     "output_type": "stream",
     "text": [
      "1 > 2\n"
     ]
    }
   ],
   "source": [
    "if 1 > 0:\n",
    "    print('1 > 2')"
   ]
  },
  {
   "cell_type": "markdown",
   "id": "34379af6",
   "metadata": {},
   "source": [
    "Иногда внутри блока `%действия_2%` необходимо написать еще одну проверку (еще один блок if). Для улучшения читаемости кода испольуется специальное слово `elif`. Ниже представлена программа, написанная выше, только без использования `elif`."
   ]
  },
  {
   "cell_type": "code",
   "execution_count": 16,
   "id": "206396cc",
   "metadata": {},
   "outputs": [
    {
     "name": "stdout",
     "output_type": "stream",
     "text": [
      "Введите свой возраст: 21\n",
      "Вы достигли совершеннолетия\n"
     ]
    }
   ],
   "source": [
    "age = int(input('Введите свой возраст: '))\n",
    "\n",
    "if age < 0:\n",
    "    print('Видимо, вы еще не родились')\n",
    "else:\n",
    "    if age < 18:\n",
    "        print('Вы еще ребенок')\n",
    "    else:\n",
    "        print('Вы достигли совершеннолетия')"
   ]
  },
  {
   "cell_type": "markdown",
   "id": "be839a07",
   "metadata": {},
   "source": [
    "Обратите внимание на использование отступов. Они обозначают начало и конец блоков кода, относящихся к управляющим конструкциям. Если пользоваться ими неправильно, программа будет выдавать ошибки."
   ]
  },
  {
   "cell_type": "markdown",
   "id": "fc0aa6b2",
   "metadata": {},
   "source": [
    "#### Циклы\n",
    "\n",
    "В Python существует два вида циклов: `for` и `while`.\n",
    "\n",
    "`while` выполняет блок команд до тех пор, пока условие в нем истинно."
   ]
  },
  {
   "cell_type": "code",
   "execution_count": 18,
   "id": "f6616764",
   "metadata": {},
   "outputs": [
    {
     "name": "stdout",
     "output_type": "stream",
     "text": [
      "5\n",
      "4\n",
      "3\n",
      "2\n",
      "1\n"
     ]
    }
   ],
   "source": [
    "x = 5\n",
    "while x > 0:\n",
    "    print(x)\n",
    "    x -= 1"
   ]
  },
  {
   "cell_type": "markdown",
   "id": "745b519b",
   "metadata": {},
   "source": [
    "`for` более сложный цикл, так как он принимает некоторый итерируемый объект. Более подробно о них будет рассказано в разделе **списки и кортежи**. Для начала достаточно будет пары примеров."
   ]
  },
  {
   "cell_type": "code",
   "execution_count": 20,
   "id": "a8ada303",
   "metadata": {},
   "outputs": [
    {
     "name": "stdout",
     "output_type": "stream",
     "text": [
      "0\n",
      "1\n",
      "2\n",
      "3\n",
      "4\n",
      "5\n",
      "6\n",
      "7\n",
      "8\n",
      "9\n"
     ]
    }
   ],
   "source": [
    "for i in range(10):\n",
    "    print(i)"
   ]
  },
  {
   "cell_type": "markdown",
   "id": "0b7a224b",
   "metadata": {},
   "source": [
    "Если занчение `i` не используется, `i` можно заменить на `_`."
   ]
  },
  {
   "cell_type": "code",
   "execution_count": 22,
   "id": "753358e2",
   "metadata": {},
   "outputs": [
    {
     "name": "stdout",
     "output_type": "stream",
     "text": [
      "Этот текст будет выведен на экран три раза\n",
      "Этот текст будет выведен на экран три раза\n",
      "Этот текст будет выведен на экран три раза\n"
     ]
    }
   ],
   "source": [
    "for _ in range(3):\n",
    "    print('Этот текст будет выведен на экран три раза')"
   ]
  },
  {
   "cell_type": "markdown",
   "id": "a7242e0a",
   "metadata": {},
   "source": [
    "# Данный файл еще будет дополняться."
   ]
  },
  {
   "cell_type": "code",
   "execution_count": null,
   "id": "97726513",
   "metadata": {},
   "outputs": [],
   "source": []
  }
 ],
 "metadata": {
  "kernelspec": {
   "display_name": "Python 3 (ipykernel)",
   "language": "python",
   "name": "python3"
  },
  "language_info": {
   "codemirror_mode": {
    "name": "ipython",
    "version": 3
   },
   "file_extension": ".py",
   "mimetype": "text/x-python",
   "name": "python",
   "nbconvert_exporter": "python",
   "pygments_lexer": "ipython3",
   "version": "3.11.0"
  }
 },
 "nbformat": 4,
 "nbformat_minor": 5
}
