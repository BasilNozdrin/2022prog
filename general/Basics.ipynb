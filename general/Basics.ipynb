{
 "cells": [
  {
   "cell_type": "markdown",
   "id": "6520d178",
   "metadata": {},
   "source": [
    "# Введение в Python  \n",
    "\n",
    "## Базовый синтаксис  \n",
    "\n",
    "### Переменные  \n",
    "\n",
    "В Python в отличие от многих других языков программирования (ЯП) типизация динамическая и потому типы явно не указываются. Но это еще не занчит, что типов нет. Данный конспект написан в среде Jupyter Notebook, он состоит из текстовых блоков (как этот) и блоков с кодом (как следующий блок). Текстовые блоки содержат текст с **форматированием**, а блоки с кодом можно запускать (если открывать `.ipynb` файл через PyCharm или через консоль запустить `python -m notebook` (для Windows) или `jupyter-notebook` (для Linux)).\n",
    "\n",
    "Ниже приведены фрагменты кода с работой с переменными, такими, как создание переменной"
   ]
  },
  {
   "cell_type": "code",
   "execution_count": 32,
   "id": "67103917",
   "metadata": {},
   "outputs": [],
   "source": [
    "x = 1"
   ]
  },
  {
   "cell_type": "markdown",
   "id": "d91c299b",
   "metadata": {},
   "source": [
    "Изменение значения переменной"
   ]
  },
  {
   "cell_type": "code",
   "execution_count": 33,
   "id": "e2b69b65",
   "metadata": {},
   "outputs": [],
   "source": [
    "x = x + 5"
   ]
  },
  {
   "cell_type": "markdown",
   "id": "d04db22c",
   "metadata": {},
   "source": [
    "Вычисление типа переменной"
   ]
  },
  {
   "cell_type": "code",
   "execution_count": 34,
   "id": "a391bf96",
   "metadata": {},
   "outputs": [
    {
     "data": {
      "text/plain": "int"
     },
     "execution_count": 34,
     "metadata": {},
     "output_type": "execute_result"
    }
   ],
   "source": [
    "type(x)"
   ]
  },
  {
   "cell_type": "markdown",
   "id": "5d8c14f3",
   "metadata": {},
   "source": [
    "Ниже приведены еще несколько типов из `Python`"
   ]
  },
  {
   "cell_type": "code",
   "execution_count": 35,
   "id": "79a485ea",
   "metadata": {},
   "outputs": [
    {
     "name": "stdout",
     "output_type": "stream",
     "text": [
      "<class 'int'> <class 'float'> <class 'bool'> <class 'str'> <class 'list'> <class 'tuple'> <class 'dict'>\n"
     ]
    }
   ],
   "source": [
    "print(type(0), type(0.), type(False), type(''), type([]), type(()), type({}))"
   ]
  },
  {
   "cell_type": "markdown",
   "id": "5c7b8783",
   "metadata": {},
   "source": [
    "По какой-то неведомой мне причине Github не отображает предыдущую ячейку. Я, конечно, догадываюсь почему так происходит, исправить это будет почти невозможно, потому просто покажу, как это работает, если запускать самому: ![Скрин](Basics.png)"
   ]
  },
  {
   "cell_type": "markdown",
   "id": "62a8a565",
   "metadata": {},
   "source": [
    "Для создания срок можно использовать как двойные кавычки \"...\", так и одинарные '...'."
   ]
  },
  {
   "cell_type": "code",
   "execution_count": 36,
   "id": "ccfebc04",
   "metadata": {},
   "outputs": [
    {
     "name": "stdout",
     "output_type": "stream",
     "text": [
      "Hello world\n"
     ]
    }
   ],
   "source": [
    "x = \"Hello world\"\n",
    "print(x)"
   ]
  },
  {
   "cell_type": "markdown",
   "id": "231d1ad1",
   "metadata": {},
   "source": [
    "В `Python` есть следующие операции для числовых типов: сложение `+`, вычитание `-`, деление `/`. целочисленное деление `//`, умножение `*`, взятие остатка от деления `%`.\n",
    "Результат деления `/` всегда возвращает тип `float`."
   ]
  },
  {
   "cell_type": "code",
   "execution_count": 37,
   "id": "4cdef9b3",
   "metadata": {},
   "outputs": [
    {
     "name": "stdout",
     "output_type": "stream",
     "text": [
      "\"Hello \" + \"World\" = 'Hello World'\n",
      "3 + 5 = 8\n",
      "10 // 2 = 5\n",
      "10 / 2 = 5.0\n",
      "13 % 2 = 1\n"
     ]
    }
   ],
   "source": [
    "print(f'{\"Hello \" + \"World\" = }', f'{3 + 5 = }', f'{10 // 2 = }', f'{10 / 2 = }', f'{13 % 2 = }',  sep='\\n')"
   ]
  },
  {
   "cell_type": "markdown",
   "id": "f80a7c3c",
   "metadata": {},
   "source": [
    "### Пользовательский ввод и вывод текста на экран"
   ]
  },
  {
   "cell_type": "markdown",
   "id": "ab5571b3",
   "metadata": {},
   "source": [
    "Для вывода текста на экран используется функция `print`"
   ]
  },
  {
   "cell_type": "code",
   "execution_count": 38,
   "id": "350bf287",
   "metadata": {},
   "outputs": [
    {
     "name": "stdout",
     "output_type": "stream",
     "text": [
      "Hello world\n"
     ]
    }
   ],
   "source": [
    "print(x)"
   ]
  },
  {
   "cell_type": "markdown",
   "id": "30434c95",
   "metadata": {},
   "source": [
    "Для чтения пользовательского ввода используется функция `input`"
   ]
  },
  {
   "cell_type": "code",
   "execution_count": 39,
   "id": "4212afcb",
   "metadata": {},
   "outputs": [],
   "source": [
    "x = input()"
   ]
  },
  {
   "cell_type": "code",
   "execution_count": 40,
   "id": "c5705b70",
   "metadata": {},
   "outputs": [
    {
     "name": "stdout",
     "output_type": "stream",
     "text": [
      "x = ''\n"
     ]
    }
   ],
   "source": [
    "print(f'{x = }')"
   ]
  },
  {
   "cell_type": "markdown",
   "id": "edce05c4",
   "metadata": {},
   "source": [
    "Python язык интерпретируемый, то есть программы можно выполнять построчно, в консоли. Возможна также компиляция и выполнение программы, запуском целого файла с кодом.  \n",
    "\n",
    "В консоли можно вызывать метод `__repr__` от некоторых объектов (переменных в нашем случае). Для этого достаточно просто написать имя переменной и нажать *Enter*. На экран будет выведено значение переменной. Ниже приведен пример:"
   ]
  },
  {
   "cell_type": "code",
   "execution_count": 41,
   "id": "82718089",
   "metadata": {},
   "outputs": [
    {
     "data": {
      "text/plain": "''"
     },
     "execution_count": 41,
     "metadata": {},
     "output_type": "execute_result"
    }
   ],
   "source": [
    "x"
   ]
  },
  {
   "cell_type": "code",
   "execution_count": 42,
   "id": "cc7eae2b",
   "metadata": {},
   "outputs": [
    {
     "data": {
      "text/plain": "\"''\""
     },
     "execution_count": 42,
     "metadata": {},
     "output_type": "execute_result"
    }
   ],
   "source": [
    "x.__repr__()"
   ]
  },
  {
   "cell_type": "markdown",
   "id": "910fec80",
   "metadata": {},
   "source": [
    "### Управляющие конструкции.\n",
    "\n",
    "#### Условный оператор."
   ]
  },
  {
   "cell_type": "markdown",
   "id": "dd3babf6",
   "metadata": {},
   "source": [
    "Для создания логики в программах нужно использовать условный оператор `if`."
   ]
  },
  {
   "cell_type": "code",
   "execution_count": 43,
   "id": "99e3b002",
   "metadata": {},
   "outputs": [
    {
     "ename": "ValueError",
     "evalue": "invalid literal for int() with base 10: ''",
     "output_type": "error",
     "traceback": [
      "\u001B[1;31m---------------------------------------------------------------------------\u001B[0m",
      "\u001B[1;31mValueError\u001B[0m                                Traceback (most recent call last)",
      "Cell \u001B[1;32mIn [43], line 1\u001B[0m\n\u001B[1;32m----> 1\u001B[0m age \u001B[38;5;241m=\u001B[39m \u001B[38;5;28;43mint\u001B[39;49m\u001B[43m(\u001B[49m\u001B[38;5;28;43minput\u001B[39;49m\u001B[43m(\u001B[49m\u001B[38;5;124;43m'\u001B[39;49m\u001B[38;5;124;43mВведите свой возраст: \u001B[39;49m\u001B[38;5;124;43m'\u001B[39;49m\u001B[43m)\u001B[49m\u001B[43m)\u001B[49m\n\u001B[0;32m      3\u001B[0m \u001B[38;5;28;01mif\u001B[39;00m age \u001B[38;5;241m<\u001B[39m \u001B[38;5;241m0\u001B[39m:\n\u001B[0;32m      4\u001B[0m     \u001B[38;5;28mprint\u001B[39m(\u001B[38;5;124m'\u001B[39m\u001B[38;5;124mВидимо, вы еще не родились\u001B[39m\u001B[38;5;124m'\u001B[39m)\n",
      "\u001B[1;31mValueError\u001B[0m: invalid literal for int() with base 10: ''"
     ]
    }
   ],
   "source": [
    "age = int(input('Введите свой возраст: '))\n",
    "\n",
    "if age < 0:\n",
    "    print('Видимо, вы еще не родились')\n",
    "elif age < 18:\n",
    "    print('Вы еще ребенок')\n",
    "else:\n",
    "    print('Вы достигли совершеннолетия')\n"
   ]
  },
  {
   "cell_type": "markdown",
   "id": "fd79b9cf",
   "metadata": {},
   "source": [
    "Оператор `if` имеет следующий синтаксис:\n",
    "\n",
    "    if %условие%:\n",
    "        %действия_1%\n",
    "    else:\n",
    "        %действия_2%\n",
    "\n",
    "Если условие истино, выполняются действия из блока `%действия_1%`. Иначе выполняются действия из блока `%действия_2%`.\n",
    "Блок `else` не обязательный."
   ]
  },
  {
   "cell_type": "code",
   "execution_count": null,
   "id": "4a16efd6",
   "metadata": {},
   "outputs": [],
   "source": [
    "if 1 > 0:\n",
    "    print('1 > 2')"
   ]
  },
  {
   "cell_type": "markdown",
   "id": "34379af6",
   "metadata": {},
   "source": [
    "Иногда внутри блока `%действия_2%` необходимо написать еще одну проверку (еще один блок if). Для улучшения читаемости кода испольуется специальное слово `elif`. Ниже представлена программа, написанная выше, только без использования `elif`."
   ]
  },
  {
   "cell_type": "code",
   "execution_count": null,
   "id": "206396cc",
   "metadata": {},
   "outputs": [],
   "source": [
    "age = int(input('Введите свой возраст: '))\n",
    "\n",
    "if age < 0:\n",
    "    print('Видимо, вы еще не родились')\n",
    "else:\n",
    "    if age < 18:\n",
    "        print('Вы еще ребенок')\n",
    "    else:\n",
    "        print('Вы достигли совершеннолетия')"
   ]
  },
  {
   "cell_type": "markdown",
   "id": "be839a07",
   "metadata": {},
   "source": [
    "Обратите внимание на использование отступов. Они обозначают начало и конец блоков кода, относящихся к управляющим конструкциям. Если пользоваться ими неправильно, программа будет выдавать ошибки."
   ]
  },
  {
   "cell_type": "markdown",
   "id": "fc0aa6b2",
   "metadata": {},
   "source": [
    "#### Циклы\n",
    "\n",
    "В Python существует два вида циклов: `for` и `while`.\n",
    "\n",
    "`while` выполняет блок команд до тех пор, пока условие в нем истинно."
   ]
  },
  {
   "cell_type": "code",
   "execution_count": null,
   "id": "f6616764",
   "metadata": {},
   "outputs": [],
   "source": [
    "x = 5\n",
    "while x > 0:\n",
    "    print(x)\n",
    "    x -= 1"
   ]
  },
  {
   "cell_type": "markdown",
   "id": "745b519b",
   "metadata": {},
   "source": [
    "`for` более сложный цикл, так как он принимает некоторый итерируемый объект. Более подробно о них будет рассказано в разделе **списки и кортежи**. Для начала достаточно будет пары примеров."
   ]
  },
  {
   "cell_type": "code",
   "execution_count": null,
   "id": "a8ada303",
   "metadata": {},
   "outputs": [],
   "source": [
    "for i in range(10):\n",
    "    print(i)"
   ]
  },
  {
   "cell_type": "markdown",
   "id": "0b7a224b",
   "metadata": {},
   "source": [
    "Если занчение `i` не используется, `i` можно заменить на `_`."
   ]
  },
  {
   "cell_type": "code",
   "execution_count": null,
   "id": "753358e2",
   "metadata": {},
   "outputs": [],
   "source": [
    "for _ in range(3):\n",
    "    print('Этот текст будет выведен на экран три раза')"
   ]
  },
  {
   "cell_type": "markdown",
   "id": "607dc92a",
   "metadata": {},
   "source": [
    "### Cписки\n",
    "\n",
    "В Python есть тип List, позволяющий хранить последовательность значений любого типа. Для создания пустого списка достаточно написать"
   ]
  },
  {
   "cell_type": "code",
   "execution_count": null,
   "outputs": [],
   "source": [
    "a = []"
   ],
   "metadata": {
    "collapsed": false
   }
  },
  {
   "cell_type": "markdown",
   "source": [
    "Далее можно добавлять элементы в список методом append"
   ],
   "metadata": {
    "collapsed": false
   }
  },
  {
   "cell_type": "code",
   "execution_count": null,
   "outputs": [],
   "source": [
    "a.append(1)\n",
    "a.append(\"Hello\")\n",
    "a.append(True)\n",
    "a.append(248)"
   ],
   "metadata": {
    "collapsed": false
   }
  },
  {
   "cell_type": "code",
   "execution_count": null,
   "outputs": [],
   "source": [
    "a"
   ],
   "metadata": {
    "collapsed": false
   }
  },
  {
   "cell_type": "markdown",
   "source": [
    "Можно хранить списки в списках"
   ],
   "metadata": {
    "collapsed": false
   }
  },
  {
   "cell_type": "code",
   "execution_count": null,
   "outputs": [],
   "source": [
    "a.append([1,2,3])\n",
    "print(a)"
   ],
   "metadata": {
    "collapsed": false
   }
  },
  {
   "cell_type": "markdown",
   "source": [
    "Вот как можно вывести список на экран"
   ],
   "metadata": {
    "collapsed": false
   }
  },
  {
   "cell_type": "code",
   "execution_count": null,
   "outputs": [],
   "source": [
    "print(a)\n",
    "print(*a)"
   ],
   "metadata": {
    "collapsed": false
   }
  },
  {
   "cell_type": "markdown",
   "source": [
    "Можно обращаться к элементам списка по индексам"
   ],
   "metadata": {
    "collapsed": false
   }
  },
  {
   "cell_type": "code",
   "execution_count": null,
   "outputs": [],
   "source": [
    "print(a[0], a[2])"
   ],
   "metadata": {
    "collapsed": false
   }
  },
  {
   "cell_type": "markdown",
   "source": [
    "Можно делать срез (slice) списка"
   ],
   "metadata": {
    "collapsed": false
   }
  },
  {
   "cell_type": "code",
   "execution_count": null,
   "id": "a2594455",
   "metadata": {},
   "outputs": [],
   "source": [
    "print(a[:2], a[1:], a[1:2], a[:], sep='\\n')"
   ]
  },
  {
   "cell_type": "markdown",
   "source": [
    "### Функции\n",
    "\n",
    "Зачастую операции, производимые на компьютере необходимо выполнять по несколько раз, в разных местах других программ. Для того чтобы это было удобно делать и не приходилось постоянно переписывать одинаковый код, нужно использовать функции. Рекомендуется давать такие имена функциям, чтобы было понятно что она делает. При этом имя функции не может начинаться с цифры, спец. символа или нижнего подчеркивания. Пример функции:"
   ],
   "metadata": {
    "collapsed": false
   }
  },
  {
   "cell_type": "code",
   "execution_count": null,
   "outputs": [],
   "source": [
    "def my_function():\n",
    "    print(\"Hi there\")\n"
   ],
   "metadata": {
    "collapsed": false
   }
  },
  {
   "cell_type": "markdown",
   "source": [
    "После того как вы определили функцию, ее необходимо вызвать."
   ],
   "metadata": {
    "collapsed": false
   }
  },
  {
   "cell_type": "code",
   "execution_count": null,
   "outputs": [],
   "source": [
    "my_function()"
   ],
   "metadata": {
    "collapsed": false
   }
  },
  {
   "cell_type": "markdown",
   "source": [
    "Для большей гибкости кода можно передавать в функцию аргументы."
   ],
   "metadata": {
    "collapsed": false
   }
  },
  {
   "cell_type": "code",
   "execution_count": null,
   "outputs": [],
   "source": [
    "def func_with_args(x, y, z):\n",
    "    print(f\"func_with_args was called with\\n{x = }\\n{y = }\\n{z = }\")\n"
   ],
   "metadata": {
    "collapsed": false
   }
  },
  {
   "cell_type": "code",
   "execution_count": null,
   "outputs": [],
   "source": [
    "func_with_args(10, \"asdasd\", True)"
   ],
   "metadata": {
    "collapsed": false
   }
  },
  {
   "cell_type": "markdown",
   "id": "a7242e0a",
   "metadata": {},
   "source": [
    "# Данный файл еще будет дополняться."
   ]
  },
  {
   "cell_type": "code",
   "execution_count": null,
   "outputs": [],
   "source": [],
   "metadata": {
    "collapsed": false
   }
  }
 ],
 "metadata": {
  "kernelspec": {
   "display_name": "Python 3 (ipykernel)",
   "language": "python",
   "name": "python3"
  },
  "language_info": {
   "codemirror_mode": {
    "name": "ipython",
    "version": 3
   },
   "file_extension": ".py",
   "mimetype": "text/x-python",
   "name": "python",
   "nbconvert_exporter": "python",
   "pygments_lexer": "ipython3",
   "version": "3.11.0"
  }
 },
 "nbformat": 4,
 "nbformat_minor": 5
}
