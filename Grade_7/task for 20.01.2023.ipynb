{
 "cells": [
  {
   "cell_type": "markdown",
   "id": "ec5db6f8",
   "metadata": {},
   "source": [
    "# Задание на 20.01.2023"
   ]
  },
  {
   "cell_type": "markdown",
   "id": "bab9cd9c",
   "metadata": {},
   "source": [
    "## 7 класс\n",
    "\n",
    "### Теория. Тема: *Кривая дракона, L-системы*\n",
    "\n",
    "L-система - это система правил, позволяющая генерировать различные объекты. Мы будем рассматривать L-системы в контексте генерации фракталов.\n",
    "\n",
    "Рассмотрим следующую L-систему:\n",
    "* начальная строка: \"F\"\n",
    "* правила замены:\n",
    "    * F -> FLFRRFLF\n",
    "\n",
    "Для такой системы на итерациях будут получаться следующие строки:\n",
    "F -> FLFRRFLF -> FLFRRFLFLFLFRRFLFRRFLFRRFLFLFLFRRFLF -> ...\n",
    "\n",
    "Если рассматривать символы как команды для черепашки, то данная L-система генерирует кривую Коха. При этом в описании самой систему должно быть зафиксировано, что L и R - повороты против часовой стрелки на 60 градусов и по часовой соответственно.\n",
    "\n",
    "Рассмотрим следующую L-систему:\n",
    "* начальная строка: \"FX\"\n",
    "* правила замены:\n",
    "    * FX -> FXRFYR\n",
    "    * FY -> LFXLFY\n",
    "* угол поворота: 90 градусов\n",
    "\n",
    "Такая система генерирует так называемую кривую дракона.\n",
    "\n",
    "### Практика\n",
    "\n",
    "Напишите программу, которая рисует кривую дракона, как L-систему."
   ]
  },
  {
   "cell_type": "code",
   "execution_count": 5,
   "outputs": [
    {
     "name": "stdout",
     "output_type": "stream",
     "text": [
      "x + y = 7\n",
      "x + y = 6\n",
      "x + y = 3\n"
     ]
    }
   ],
   "source": [
    "a = [(5, 2), (1, 5), (1, 2)]\n",
    "\n",
    "for x, y in a:\n",
    "    print(f'{x + y = }')"
   ],
   "metadata": {
    "collapsed": false
   }
  },
  {
   "cell_type": "code",
   "execution_count": 1,
   "outputs": [],
   "source": [],
   "metadata": {
    "collapsed": false
   }
  }
 ],
 "metadata": {
  "kernelspec": {
   "display_name": "Python 3 (ipykernel)",
   "language": "python",
   "name": "python3"
  },
  "language_info": {
   "codemirror_mode": {
    "name": "ipython",
    "version": 3
   },
   "file_extension": ".py",
   "mimetype": "text/x-python",
   "name": "python",
   "nbconvert_exporter": "python",
   "pygments_lexer": "ipython3",
   "version": "3.11.0"
  }
 },
 "nbformat": 4,
 "nbformat_minor": 5
}
