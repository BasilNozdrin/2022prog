{
 "cells": [
  {
   "cell_type": "markdown",
   "id": "bab9cd9c",
   "metadata": {},
   "source": [
    "# Задание на 27.01.2023\n",
    "\n",
    "## 7 класс\n",
    "\n",
    "### Практика. Тема: *Рисование фракталов с градиентом.*\n",
    "\n",
    "Для получения оценки 5 необходимо решить 3 пункта.\n",
    "Для получения оценки 4 необходимо решить 2 пункта.\n",
    "Для получения оценки 3 необходимо решить 1 пункт.\n",
    "\n",
    "1. Напишите программу, которая рисует треугольник Серпинского с градиентом.\n",
    "2. Напишите программу, которая рисует фрактал - дерево с градиентом.\n",
    "3. Напишите программу, которая рисует кривую дракона с градиентом.\n",
    "4. Напишите программу, которая рисует ломаную Коха с градиентом."
   ]
  },
  {
   "cell_type": "code",
   "execution_count": 1,
   "outputs": [],
   "source": [
    "import numpy as np"
   ],
   "metadata": {
    "collapsed": false
   }
  },
  {
   "cell_type": "code",
   "execution_count": 10,
   "outputs": [
    {
     "name": "stdout",
     "output_type": "stream",
     "text": [
      "[5.0, 7.222222222222222, 9.444444444444445, 11.666666666666668, 13.88888888888889, 16.11111111111111, 18.333333333333336, 20.555555555555557, 22.77777777777778, 25.0]\n"
     ]
    }
   ],
   "source": [
    "print(list(np.linspace(5, 25, num=10)))"
   ],
   "metadata": {
    "collapsed": false
   }
  },
  {
   "cell_type": "code",
   "execution_count": 21,
   "outputs": [
    {
     "data": {
      "text/plain": "array([[1.  , 0.  , 0.  ],\n       [0.75, 0.  , 0.25],\n       [0.5 , 0.  , 0.5 ],\n       [0.25, 0.  , 0.75],\n       [0.  , 0.  , 1.  ]])"
     },
     "execution_count": 21,
     "metadata": {},
     "output_type": "execute_result"
    }
   ],
   "source": [
    "np.linspace([1, 0, 0], [0, 0, 1], num=5)"
   ],
   "metadata": {
    "collapsed": false
   }
  },
  {
   "cell_type": "code",
   "execution_count": 28,
   "outputs": [],
   "source": [
    "colors = list(map(lambda row: tuple(row), np.linspace([1, 0, 0], [0, 0, 1], num=16)))"
   ],
   "metadata": {
    "collapsed": false
   }
  },
  {
   "cell_type": "code",
   "execution_count": 31,
   "outputs": [
    {
     "name": "stdout",
     "output_type": "stream",
     "text": [
      "0 : (1.0, 0.0, 0.0)\n",
      "1 : (0.9333333333333333, 0.0, 0.06666666666666667)\n",
      "2 : (0.8666666666666667, 0.0, 0.13333333333333333)\n",
      "3 : (0.8, 0.0, 0.2)\n",
      "4 : (0.7333333333333334, 0.0, 0.26666666666666666)\n",
      "5 : (0.6666666666666667, 0.0, 0.3333333333333333)\n",
      "6 : (0.6, 0.0, 0.4)\n",
      "7 : (0.5333333333333333, 0.0, 0.4666666666666667)\n",
      "8 : (0.4666666666666667, 0.0, 0.5333333333333333)\n",
      "9 : (0.4, 0.0, 0.6)\n",
      "10 : (0.33333333333333337, 0.0, 0.6666666666666666)\n",
      "11 : (0.2666666666666667, 0.0, 0.7333333333333333)\n",
      "12 : (0.19999999999999996, 0.0, 0.8)\n",
      "13 : (0.1333333333333333, 0.0, 0.8666666666666667)\n",
      "14 : (0.06666666666666665, 0.0, 0.9333333333333333)\n",
      "15 : (0.0, 0.0, 1.0)\n"
     ]
    }
   ],
   "source": [
    "for index, color in enumerate(colors):\n",
    "    print(index, ':', color)"
   ],
   "metadata": {
    "collapsed": false
   }
  },
  {
   "cell_type": "code",
   "execution_count": null,
   "outputs": [],
   "source": [],
   "metadata": {
    "collapsed": false
   }
  }
 ],
 "metadata": {
  "kernelspec": {
   "display_name": "Python 3 (ipykernel)",
   "language": "python",
   "name": "python3"
  },
  "language_info": {
   "codemirror_mode": {
    "name": "ipython",
    "version": 3
   },
   "file_extension": ".py",
   "mimetype": "text/x-python",
   "name": "python",
   "nbconvert_exporter": "python",
   "pygments_lexer": "ipython3",
   "version": "3.11.0"
  }
 },
 "nbformat": 4,
 "nbformat_minor": 5
}
