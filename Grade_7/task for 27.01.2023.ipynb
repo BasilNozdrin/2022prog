{
 "cells": [
  {
   "cell_type": "markdown",
   "id": "bab9cd9c",
   "metadata": {},
   "source": [
    "# Задание на 27.01.2023\n",
    "\n",
    "## 7 класс\n",
    "\n",
    "### Практика. Тема: *Рисование фракталов с градиентом.*\n",
    "\n",
    "Для получения оценки 5 необходимо решить 3 пункта.\n",
    "Для получения оценки 4 необходимо решить 2 пункта.\n",
    "Для получения оценки 3 необходимо решить 1 пункт.\n",
    "\n",
    "1. Напишите программу, которая рисует треугольник Серпинского с градиентом.\n",
    "2. Напишите программу, которая рисует фрактал - дерево с градиентом.\n",
    "3. Напишите программу, которая рисует кривую дракона с градиентом.\n",
    "4. Напишите программу, которая рисует снежинку Коха с градиентом."
   ]
  },
  {
   "cell_type": "code",
   "execution_count": 1,
   "outputs": [],
   "source": [
    "import numpy as np"
   ],
   "metadata": {
    "collapsed": false
   }
  },
  {
   "cell_type": "code",
   "execution_count": 10,
   "outputs": [
    {
     "name": "stdout",
     "output_type": "stream",
     "text": [
      "[5.0, 7.222222222222222, 9.444444444444445, 11.666666666666668, 13.88888888888889, 16.11111111111111, 18.333333333333336, 20.555555555555557, 22.77777777777778, 25.0]\n"
     ]
    }
   ],
   "source": [
    "print(list(np.linspace(5, 25, num=10)))"
   ],
   "metadata": {
    "collapsed": false
   }
  },
  {
   "cell_type": "code",
   "execution_count": 21,
   "outputs": [
    {
     "data": {
      "text/plain": "array([[1.  , 0.  , 0.  ],\n       [0.75, 0.  , 0.25],\n       [0.5 , 0.  , 0.5 ],\n       [0.25, 0.  , 0.75],\n       [0.  , 0.  , 1.  ]])"
     },
     "execution_count": 21,
     "metadata": {},
     "output_type": "execute_result"
    }
   ],
   "source": [
    "np.linspace([1, 0, 0], [0, 0, 1], num=5)"
   ],
   "metadata": {
    "collapsed": false
   }
  },
  {
   "cell_type": "code",
   "execution_count": 25,
   "outputs": [],
   "source": [
    "colors = list(map(lambda row: tuple(row), np.linspace([1, 0, 0], [0, 0, 1], num=5)))"
   ],
   "metadata": {
    "collapsed": false
   }
  },
  {
   "cell_type": "code",
   "execution_count": 27,
   "outputs": [
    {
     "name": "stdout",
     "output_type": "stream",
     "text": [
      "1.0 0.0 0.0\n",
      "0.75 0.0 0.25\n",
      "0.5 0.0 0.5\n",
      "0.25 0.0 0.75\n",
      "0.0 0.0 1.0\n"
     ]
    }
   ],
   "source": [
    "for color in colors:\n",
    "    print(*color)"
   ],
   "metadata": {
    "collapsed": false
   }
  },
  {
   "cell_type": "code",
   "execution_count": null,
   "outputs": [],
   "source": [],
   "metadata": {
    "collapsed": false
   }
  }
 ],
 "metadata": {
  "kernelspec": {
   "display_name": "Python 3 (ipykernel)",
   "language": "python",
   "name": "python3"
  },
  "language_info": {
   "codemirror_mode": {
    "name": "ipython",
    "version": 3
   },
   "file_extension": ".py",
   "mimetype": "text/x-python",
   "name": "python",
   "nbconvert_exporter": "python",
   "pygments_lexer": "ipython3",
   "version": "3.11.0"
  }
 },
 "nbformat": 4,
 "nbformat_minor": 5
}
