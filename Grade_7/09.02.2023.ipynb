{
 "cells": [
  {
   "cell_type": "markdown",
   "source": [
    "# Задание 09.02.2023\n",
    "## 7 класс\n",
    "### Тема: *Наследование, полиморфизм на примере стандартных методов*\n",
    "\n",
    "\n",
    "* **На оценку 3** напишите класс, объекты которого можно выводить на экран.\n",
    "* **На оценку 4** напишите класс, объекты которого можно выводить на экран, складывать (`__add__`).\n",
    "* **На оценку 5** напишите класс, объекты которого можно выводить на экран, складывать (`__add__`) или умножать (`__mul__`)."
   ],
   "metadata": {
    "collapsed": false
   }
  },
  {
   "cell_type": "code",
   "execution_count": 21,
   "outputs": [],
   "source": [
    "class A:\n",
    "    def __init__(self, data):\n",
    "        self.m_data = data\n",
    "\n",
    "class B(A):\n",
    "    def split_data(self):\n",
    "        self.m_data //= 2\n",
    "\n",
    "\n",
    "class SomeList(list):\n",
    "    def our_method(self):\n",
    "        return sum(self)\n"
   ],
   "metadata": {
    "collapsed": false
   }
  },
  {
   "cell_type": "code",
   "execution_count": 18,
   "outputs": [
    {
     "name": "stdout",
     "output_type": "stream",
     "text": [
      "<__main__.B object at 0x000001C992B14110>\n",
      "123\n",
      "61\n"
     ]
    }
   ],
   "source": [
    "a = B(123)\n",
    "print(a)\n",
    "print(a.m_data)\n",
    "a.split_data()\n",
    "print(a.m_data)\n"
   ],
   "metadata": {
    "collapsed": false
   }
  },
  {
   "cell_type": "code",
   "execution_count": 19,
   "outputs": [
    {
     "data": {
      "text/plain": "'ASDKLJAHSDD'"
     },
     "execution_count": 19,
     "metadata": {},
     "output_type": "execute_result"
    }
   ],
   "source": [
    "s = \"asdkljahsdd\"\n",
    "\n",
    "s.upper()"
   ],
   "metadata": {
    "collapsed": false
   }
  },
  {
   "cell_type": "code",
   "execution_count": 20,
   "outputs": [
    {
     "name": "stdout",
     "output_type": "stream",
     "text": [
      "16\n"
     ]
    }
   ],
   "source": [
    "sl = SomeList([4, 4, 4, 4])\n",
    "print(sl.our_method())"
   ],
   "metadata": {
    "collapsed": false
   }
  },
  {
   "cell_type": "code",
   "execution_count": 55,
   "outputs": [
    {
     "name": "stdout",
     "output_type": "stream",
     "text": [
      "False False\n",
      "True True\n",
      "True False\n"
     ]
    }
   ],
   "source": [
    "class A:\n",
    "    def __init__(self, data):\n",
    "        self.m_data = data\n",
    "\n",
    "class B(A):\n",
    "    def __init__(self, data):\n",
    "        super().__init__(data)\n",
    "        # self.__init__(data)\n",
    "        self.m_data = self.m_data * 2\n",
    "\n",
    "    def split_data(self):\n",
    "        self.m_data //= 2\n",
    "\n",
    "    def __eq__(self, obj2):\n",
    "        if isinstance(obj2, (A, B)):\n",
    "            return obj2.m_data == self.m_data\n",
    "        else:\n",
    "            raise TypeError()\n",
    "\n",
    "    def __repr__(self):\n",
    "        return \"object of class B\\ndata = \"+ str(self.m_data)\n",
    "\n",
    "\n",
    "\n",
    "class SomeList(list):\n",
    "    def our_method(self):\n",
    "        return sum(self)\n",
    "\n",
    "a1 = A(123)\n",
    "a2 = A(123)\n",
    "a3 = a1\n",
    "b1 = B(123)\n",
    "b2 = B(123)\n",
    "\n",
    "print(a1 == a2, a1 is a2)\n",
    "print(a1 == a3, a1 is a3)\n",
    "print(b1 == b2, b1 is b2)"
   ],
   "metadata": {
    "collapsed": false
   }
  },
  {
   "cell_type": "code",
   "execution_count": 56,
   "outputs": [
    {
     "name": "stdout",
     "output_type": "stream",
     "text": [
      "123\n",
      "0.12\n",
      "132\n"
     ]
    }
   ],
   "source": [
    "print(123)\n",
    "print(0.12)\n",
    "print(\"132\")\n"
   ],
   "metadata": {
    "collapsed": false
   }
  },
  {
   "cell_type": "code",
   "execution_count": 57,
   "outputs": [
    {
     "data": {
      "text/plain": "'<__main__.A object at 0x000001C992B15010>'"
     },
     "execution_count": 57,
     "metadata": {},
     "output_type": "execute_result"
    }
   ],
   "source": [
    "a = A(123)\n",
    "a.__str__()"
   ],
   "metadata": {
    "collapsed": false
   }
  },
  {
   "cell_type": "code",
   "execution_count": 58,
   "outputs": [
    {
     "data": {
      "text/plain": "'<__main__.A object at 0x000001C992BDB5D0>'"
     },
     "execution_count": 58,
     "metadata": {},
     "output_type": "execute_result"
    }
   ],
   "source": [
    "a = A(123)\n",
    "a.__repr__()"
   ],
   "metadata": {
    "collapsed": false
   }
  },
  {
   "cell_type": "code",
   "execution_count": 59,
   "outputs": [
    {
     "data": {
      "text/plain": "<__main__.A at 0x1c992bdb5d0>"
     },
     "execution_count": 59,
     "metadata": {},
     "output_type": "execute_result"
    }
   ],
   "source": [
    "a"
   ],
   "metadata": {
    "collapsed": false
   }
  },
  {
   "cell_type": "code",
   "execution_count": 60,
   "outputs": [
    {
     "name": "stdout",
     "output_type": "stream",
     "text": [
      "<__main__.A object at 0x000001C992BDB5D0>\n"
     ]
    }
   ],
   "source": [
    "print(a)"
   ],
   "metadata": {
    "collapsed": false
   }
  },
  {
   "cell_type": "code",
   "execution_count": 61,
   "outputs": [
    {
     "name": "stdout",
     "output_type": "stream",
     "text": [
      "object of class B\n",
      "data = 246\n"
     ]
    }
   ],
   "source": [
    "b = B(123)\n",
    "\n",
    "print(b)"
   ],
   "metadata": {
    "collapsed": false
   }
  },
  {
   "cell_type": "code",
   "execution_count": 63,
   "outputs": [
    {
     "name": "stdout",
     "output_type": "stream",
     "text": [
      "6 30\n"
     ]
    }
   ],
   "source": [
    "a = 6\n",
    "b = a.__mul__(5)\n",
    "print(a, b)"
   ],
   "metadata": {
    "collapsed": false
   }
  },
  {
   "cell_type": "code",
   "execution_count": null,
   "outputs": [],
   "source": [],
   "metadata": {
    "collapsed": false
   }
  }
 ],
 "metadata": {
  "kernelspec": {
   "display_name": "Python 3",
   "language": "python",
   "name": "python3"
  },
  "language_info": {
   "codemirror_mode": {
    "name": "ipython",
    "version": 2
   },
   "file_extension": ".py",
   "mimetype": "text/x-python",
   "name": "python",
   "nbconvert_exporter": "python",
   "pygments_lexer": "ipython2",
   "version": "2.7.6"
  }
 },
 "nbformat": 4,
 "nbformat_minor": 0
}
