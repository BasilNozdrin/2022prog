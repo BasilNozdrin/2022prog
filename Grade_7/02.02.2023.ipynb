{
 "cells": [
  {
   "cell_type": "markdown",
   "id": "bab9cd9c",
   "metadata": {},
   "source": [
    "# Задание 02.02.2023\n",
    "## 7 класс\n",
    "### Тема: *ООП*\n",
    "\n",
    "ООП - объектно ориентированное программирование. Это специальный подход к решению задач программирования, в котором используется специальная терминология.\n",
    "В Python существует специальная конструкция `class`. Она позволяет определять пользовательскую структуру, которая может хранить данные, а также взаимодействовать с этими данными удобным интерфейсом.\n",
    "\n",
    "Немного отойдем от Python и поговорим в общем об ООП. Можно рассматривать мир, как множество объектов, где каждый объект - некоторое отдельное существо или предмет. Можно объединять объекты по некоторому общему свойству. Например, рассмотрим три книги: Справочник по физике, Справочник по математике и математический словарь. Это три книги на полке моего шкафа, в них всех хранится некоторая информация в текстовом виде. Любую из этих книг можно, прочитать и получить написанную в них информацию. В этом заключается общее свойство этих *конкретных* книг. Свойство это - быть книгой. Все эти три объекта - книги, они принадлежат классу книг. Есть Яндекс, Google, DuckDuckGo и Yahoo - это объекты класса поисковых сервисов.\n",
    "\n",
    "Когда в Python создается новый класс, описываются его свойства, реализуются методы взаимодействия с данными. Данные называют *полями* объекта, а *методы* - это функции, которые будут обрабатывать данные.\n"
   ]
  },
  {
   "cell_type": "code",
   "execution_count": 68,
   "outputs": [],
   "source": [
    "class MyClassA:\n",
    "    obj_counter = 0\n",
    "\n",
    "    def __init__(self, data='Empty'):\n",
    "        self.str_data = data\n",
    "\n",
    "        self.__protected_data = MyClassA.obj_counter\n",
    "        MyClassA.obj_counter += 1\n",
    "\n",
    "\n",
    "    def print_secret(self):\n",
    "        print(self.__protected_data)\n",
    "\n",
    "    # @property\n",
    "    # def str_data(self):\n",
    "    #     return self.__str_data\n",
    "\n",
    "    def half_data(self):\n",
    "        end = len(self.str_data) // 2\n",
    "        return self.str_data[:end]\n",
    "\n",
    "    def half_data2(self):\n",
    "        end = len(self.str_data) // 2\n",
    "        return self.str_data[end:]\n",
    "\n",
    "    def remove_data(self):\n",
    "        self.str_data = ''\n",
    "\n",
    "    def set_data(self, data):\n",
    "        if self.str_data == '':\n",
    "            self.str_data = data\n",
    "        else:\n",
    "            print(\"Remove data first\")"
   ],
   "metadata": {
    "collapsed": false
   }
  },
  {
   "cell_type": "code",
   "execution_count": 59,
   "outputs": [],
   "source": [
    "obj1 = MyClassA(\"Object 1 data\")\n",
    "obj2 = MyClassA(\"Object 2 data\")"
   ],
   "metadata": {
    "collapsed": false
   }
  },
  {
   "cell_type": "code",
   "execution_count": 60,
   "outputs": [
    {
     "name": "stdout",
     "output_type": "stream",
     "text": [
      "True\n",
      "False\n",
      "True\n"
     ]
    }
   ],
   "source": [
    "obj3 = obj1\n",
    "print(obj1 is obj3)\n",
    "print(obj1 is obj2)\n",
    "print(obj1.obj_counter is obj2.obj_counter)"
   ],
   "metadata": {
    "collapsed": false
   }
  },
  {
   "cell_type": "code",
   "execution_count": 61,
   "outputs": [
    {
     "name": "stdout",
     "output_type": "stream",
     "text": [
      "obj1.str_data = 'Object 1 data'\n",
      "obj2.str_data = 'Object 2 data'\n"
     ]
    }
   ],
   "source": [
    "print(f'{obj1.str_data = }\\n{obj2.str_data = }')"
   ],
   "metadata": {
    "collapsed": false
   }
  },
  {
   "cell_type": "code",
   "execution_count": 62,
   "outputs": [
    {
     "name": "stdout",
     "output_type": "stream",
     "text": [
      "0\n",
      "1\n"
     ]
    }
   ],
   "source": [
    "obj1.print_secret()\n",
    "obj2.print_secret()"
   ],
   "metadata": {
    "collapsed": false
   }
  },
  {
   "cell_type": "code",
   "execution_count": 63,
   "outputs": [
    {
     "name": "stdout",
     "output_type": "stream",
     "text": [
      "Object\n",
      " 1 data\n"
     ]
    }
   ],
   "source": [
    "print(obj1.half_data())\n",
    "print(obj1.half_data2())"
   ],
   "metadata": {
    "collapsed": false
   }
  },
  {
   "cell_type": "code",
   "execution_count": 66,
   "outputs": [
    {
     "name": "stdout",
     "output_type": "stream",
     "text": [
      "obj1.str_data = ''\n"
     ]
    }
   ],
   "source": [
    "save = obj1.str_data\n",
    "obj1.remove_data()\n",
    "print(f'{obj1.str_data = }')\n",
    "obj1.str_data = save"
   ],
   "metadata": {
    "collapsed": false
   }
  },
  {
   "cell_type": "code",
   "execution_count": 67,
   "outputs": [
    {
     "name": "stdout",
     "output_type": "stream",
     "text": [
      "Remove data first\n",
      "obj1.str_data = 'sdfk;jsdfh'\n",
      "obj1.str_data = ''\n",
      "obj1.str_data = 'sdfk;jsdfh'\n"
     ]
    }
   ],
   "source": [
    "obj1.set_data(\"sdfk;jsdfh\")\n",
    "print(f'{obj1.str_data = }')\n",
    "obj1.remove_data()\n",
    "print(f'{obj1.str_data = }')\n",
    "obj1.set_data(\"sdfk;jsdfh\")\n",
    "print(f'{obj1.str_data = }')"
   ],
   "metadata": {
    "collapsed": false
   }
  },
  {
   "cell_type": "code",
   "execution_count": 70,
   "outputs": [
    {
     "name": "stdout",
     "output_type": "stream",
     "text": [
      "obj4 data is : Empty 12408u2eto ij\n",
      "21391409|\n",
      "@@@@@@@@@@@@@\n"
     ]
    }
   ],
   "source": [
    "obj4 = MyClassA()\n",
    "print(\"obj4 data is :\", obj4.str_data, \"12408u2eto ij\\n21391409|\\n@@@@@@@@@@@@@\")"
   ],
   "metadata": {
    "collapsed": false
   }
  },
  {
   "cell_type": "markdown",
   "source": [
    "* **На оценку 4** опишите класс `Player` с полями для данных о персонаже и с методом `print_card` для печати карточки игрока.\n",
    "* **На оценку 5** допишите метод `interact` для взаимодействия с объектом класса `Interactable`."
   ],
   "metadata": {
    "collapsed": false
   }
  },
  {
   "cell_type": "code",
   "execution_count": null,
   "outputs": [],
   "source": [],
   "metadata": {
    "collapsed": false
   }
  }
 ],
 "metadata": {
  "kernelspec": {
   "display_name": "Python 3 (ipykernel)",
   "language": "python",
   "name": "python3"
  },
  "language_info": {
   "codemirror_mode": {
    "name": "ipython",
    "version": 3
   },
   "file_extension": ".py",
   "mimetype": "text/x-python",
   "name": "python",
   "nbconvert_exporter": "python",
   "pygments_lexer": "ipython3",
   "version": "3.11.0"
  }
 },
 "nbformat": 4,
 "nbformat_minor": 5
}
