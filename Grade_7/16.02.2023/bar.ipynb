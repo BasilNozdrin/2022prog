{
 "cells": [
  {
   "cell_type": "markdown",
   "source": [
    "# 7 Класс\n",
    "## 16/02/2023\n",
    "\n",
    "**Задание:**\n",
    " Напишите программу, которая рисует почасовой график погоды за временной промежуток в две недели."
   ],
   "metadata": {
    "collapsed": false
   }
  },
  {
   "cell_type": "code",
   "execution_count": 1,
   "metadata": {
    "collapsed": false
   },
   "outputs": [],
   "source": [
    "%matplotlib inline"
   ]
  },
  {
   "cell_type": "markdown",
   "metadata": {},
   "source": [
    "\n",
    "# bar(x, height)\n",
    "\n",
    "See `~matplotlib.axes.Axes.bar`.\n"
   ]
  },
  {
   "cell_type": "code",
   "execution_count": 33,
   "metadata": {
    "collapsed": false
   },
   "outputs": [
    {
     "name": "stdout",
     "output_type": "stream",
     "text": [
      "z = <filter object at 0x000001D939C6E290>\n",
      "x = array([   0,    1,    2, ..., 4997, 4998, 4999])\n",
      "y = array([0.89744836, 0.2443207 , 0.57404765, ..., 0.15721432, 0.86315817,\n",
      "       0.82031015])\n",
      "z = <filter object at 0x000001D939C6E2C0>\n",
      "x = array([   0,    1,    2, ..., 4997, 4998, 4999])\n",
      "y = array([0.96857161, 0.18316158, 0.12957456, ..., 0.853512  , 0.31702245,\n",
      "       0.38422856])\n",
      "z = <filter object at 0x000001D939C6E290>\n",
      "x = array([   0,    1,    2, ..., 4997, 4998, 4999])\n",
      "y = array([0.37608187, 0.44026811, 0.93211072, ..., 0.97445606, 0.15216757,\n",
      "       0.49880044])\n",
      "z = <filter object at 0x000001D939C6E2C0>\n",
      "x = array([   0,    1,    2, ..., 4997, 4998, 4999])\n",
      "y = array([0.37102533, 0.76207359, 0.58996409, ..., 0.47587053, 0.0802224 ,\n",
      "       0.80154039])\n",
      "z = <filter object at 0x000001D939C6E290>\n",
      "x = array([   0,    1,    2, ..., 4997, 4998, 4999])\n",
      "y = array([0.28336707, 0.15651214, 0.44541436, ..., 0.03792674, 0.51759741,\n",
      "       0.11420094])\n"
     ]
    },
    {
     "ename": "KeyboardInterrupt",
     "evalue": "",
     "output_type": "error",
     "traceback": [
      "\u001B[1;31m---------------------------------------------------------------------------\u001B[0m",
      "\u001B[1;31mKeyboardInterrupt\u001B[0m                         Traceback (most recent call last)",
      "Cell \u001B[1;32mIn [33], line 14\u001B[0m\n\u001B[0;32m     12\u001B[0m        z \u001B[38;5;241m=\u001B[39m \u001B[38;5;28mfilter\u001B[39m(\u001B[38;5;28;01mlambda\u001B[39;00m y_i: y_i \u001B[38;5;241m<\u001B[39m \u001B[38;5;241m0.5\u001B[39m, y)\n\u001B[0;32m     13\u001B[0m        \u001B[38;5;28mprint\u001B[39m(\u001B[38;5;124mf\u001B[39m\u001B[38;5;124m'\u001B[39m\u001B[38;5;132;01m{\u001B[39;00mz \u001B[38;5;132;01m= }\u001B[39;00m\u001B[38;5;130;01m\\n\u001B[39;00m\u001B[38;5;132;01m{\u001B[39;00mx \u001B[38;5;132;01m= }\u001B[39;00m\u001B[38;5;130;01m\\n\u001B[39;00m\u001B[38;5;132;01m{\u001B[39;00my \u001B[38;5;132;01m= }\u001B[39;00m\u001B[38;5;124m'\u001B[39m)\n\u001B[1;32m---> 14\u001B[0m        \u001B[43mtime\u001B[49m\u001B[38;5;241;43m.\u001B[39;49m\u001B[43msleep\u001B[49m\u001B[43m(\u001B[49m\u001B[38;5;241;43m1\u001B[39;49m\u001B[43m)\u001B[49m\n\u001B[0;32m     16\u001B[0m \u001B[38;5;66;03m# plot\u001B[39;00m\n\u001B[0;32m     17\u001B[0m fig, ax \u001B[38;5;241m=\u001B[39m plt\u001B[38;5;241m.\u001B[39msubplots()\n",
      "\u001B[1;31mKeyboardInterrupt\u001B[0m: "
     ]
    }
   ],
   "source": [
    "import matplotlib.pyplot as plt\n",
    "import numpy as np\n",
    "import time\n",
    "plt.style.use('_mpl-gallery')\n",
    "\n",
    "# make data:\n",
    "np.random.seed(int(time.time()))\n",
    "while True:\n",
    "       sample_size = int('5000')\n",
    "       x = np.arange(sample_size) # + 0.5\n",
    "       y = np.random.uniform(0, 1, len(x))\n",
    "       z = list(filter(lambda y_i: y_i < 0.5, y))\n",
    "       print(f'{z = }\\n{x = }\\n{y = }')\n",
    "       time.sleep(1)\n",
    "\n",
    "# plot\n",
    "fig, ax = plt.subplots()\n",
    "\n",
    "ax.bar(x, y, width=1, edgecolor=\"red\", linewidth=0.7)\n",
    "\n",
    "ax.set(xlim=(0, 8), xticks=np.arange(1, 8),\n",
    "       ylim=(0, 8), yticks=np.arange(1, 8))\n",
    "\n",
    "plt.show()"
   ]
  },
  {
   "cell_type": "code",
   "execution_count": 57,
   "outputs": [],
   "source": [
    "class A:\n",
    "       def __init__(self, a):\n",
    "              self.a = a\n",
    "\n",
    "       def __repr__(self):\n",
    "              return ', '.join(map(str, self.a[::-1]))"
   ],
   "metadata": {
    "collapsed": false
   }
  },
  {
   "cell_type": "code",
   "execution_count": 58,
   "outputs": [
    {
     "name": "stdout",
     "output_type": "stream",
     "text": [
      "[1, 2, 3, 4]\n",
      "[1, 2, 3, 4]\n",
      "4, 3, 2, 1\n"
     ]
    }
   ],
   "source": [
    "a = [1, 2, 3, 4]\n",
    "print(a)\n",
    "\n",
    "a = A([1, 2, 3, 4])\n",
    "print(a.a)\n",
    "print(a)"
   ],
   "metadata": {
    "collapsed": false
   }
  },
  {
   "cell_type": "code",
   "execution_count": 59,
   "outputs": [
    {
     "name": "stdout",
     "output_type": "stream",
     "text": [
      "0 1 2 3 4 5 6 7 8 9 range(0, 10)\n",
      "0 1 2 3 4 5 6 7 8 9 "
     ]
    }
   ],
   "source": [
    "lst = range(10)\n",
    "for x in lst:\n",
    "       print(x, end=' ')\n",
    "print(lst)\n",
    "for x in lst:\n",
    "       print(x, end=' ')\n"
   ],
   "metadata": {
    "collapsed": false
   }
  },
  {
   "cell_type": "code",
   "execution_count": null,
   "outputs": [],
   "source": [
    "#struct Point {\n",
    "#       int x = 0;\n",
    "#       int y = 0;\n",
    "#}"
   ],
   "metadata": {
    "collapsed": false
   }
  },
  {
   "cell_type": "code",
   "execution_count": null,
   "outputs": [],
   "source": [],
   "metadata": {
    "collapsed": false
   }
  },
  {
   "cell_type": "code",
   "execution_count": 16,
   "outputs": [
    {
     "data": {
      "text/plain": "array([0.5, 1.5, 2.5, 3.5, 4.5, 5.5, 6.5, 7.5])"
     },
     "execution_count": 16,
     "metadata": {},
     "output_type": "execute_result"
    }
   ],
   "source": [
    "x"
   ],
   "metadata": {
    "collapsed": false
   }
  },
  {
   "cell_type": "code",
   "execution_count": 17,
   "outputs": [
    {
     "data": {
      "text/plain": "array([4.75398951, 5.54073911, 3.45452369, 4.55413803, 6.46473477,\n       6.48146544, 2.62792655, 3.03621439])"
     },
     "execution_count": 17,
     "metadata": {},
     "output_type": "execute_result"
    }
   ],
   "source": [
    "y"
   ],
   "metadata": {
    "collapsed": false
   }
  },
  {
   "cell_type": "code",
   "execution_count": 17,
   "outputs": [],
   "source": [],
   "metadata": {
    "collapsed": false
   }
  },
  {
   "cell_type": "code",
   "execution_count": null,
   "outputs": [],
   "source": [
    "# x = 0.5 + np.arange(8)\n",
    "# y = np.random.uniform(2, 7, len(x))\n"
   ],
   "metadata": {
    "collapsed": false
   }
  }
 ],
 "metadata": {
  "kernelspec": {
   "display_name": "Python 3",
   "language": "python",
   "name": "python3"
  },
  "language_info": {
   "codemirror_mode": {
    "name": "ipython",
    "version": 3
   },
   "file_extension": ".py",
   "mimetype": "text/x-python",
   "name": "python",
   "nbconvert_exporter": "python",
   "pygments_lexer": "ipython3",
   "version": "3.11.0"
  }
 },
 "nbformat": 4,
 "nbformat_minor": 0
}
