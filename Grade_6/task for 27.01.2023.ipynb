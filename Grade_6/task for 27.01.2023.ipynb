{
 "cells": [
  {
   "cell_type": "markdown",
   "source": [
    "# Задание на 27.01.2023\n",
    "## 6 класс\n",
    "### Практика\n",
    "\n",
    "Решение задач\n",
    "\n",
    "* **На оценку 4** напишите функцию, которая принимает целое число - размер массива в качестве аргумента и возвращает двумерный массив со стороной заданной длины, заполненный единицами и нулями в форме квадрата.\n",
    "* **На оценку 5** напишите функцию, которая принимает целое число - размер массива в качестве аргумента и возвращает двумерный массив со стороной заданной длины, заполненный единицами и нулями в форме квадрата c диагоналями.\n",
    "пример:\n",
    "```\n",
    "result = [\n",
    "    [1, 1, 1, 1, 1, 1, 1],\n",
    "    [1, 1, 0, 0, 0, 1, 1],\n",
    "    [1, 0, 1, 0, 1, 0, 1],\n",
    "    [1, 0, 0, 1, 0, 0, 1],\n",
    "    [1, 0, 1, 0, 1, 0, 1],\n",
    "    [1, 1, 0, 0, 0, 1, 1],\n",
    "    [1, 1, 1, 1, 1, 1, 1]\n",
    "]\n",
    "```"
   ],
   "metadata": {
    "collapsed": false
   }
  },
  {
   "cell_type": "code",
   "execution_count": 16,
   "outputs": [
    {
     "name": "stdout",
     "output_type": "stream",
     "text": [
      "1[0][0], 1[0][1], 1[0][2], 1[0][3], 1[0][4], 1[0][5], 1[0][6], \n",
      "1[1][0], 1[1][1], 0[1][2], 0[1][3], 0[1][4], 1[1][5], 1[1][6], \n",
      "1[2][0], 0[2][1], 1[2][2], 0[2][3], 1[2][4], 0[2][5], 1[2][6], \n",
      "1[3][0], 0[3][1], 0[3][2], 1[3][3], 0[3][4], 0[3][5], 1[3][6], \n",
      "1[4][0], 0[4][1], 1[4][2], 0[4][3], 1[4][4], 0[4][5], 1[4][6], \n",
      "1[5][0], 1[5][1], 0[5][2], 0[5][3], 0[5][4], 1[5][5], 1[5][6], \n",
      "1[6][0], 1[6][1], 1[6][2], 1[6][3], 1[6][4], 1[6][5], 1[6][6], \n"
     ]
    }
   ],
   "source": [
    "result = [\n",
    "    [1, 1, 1, 1, 1, 1, 1],  # 0\n",
    "    [1, 1, 0, 0, 0, 1, 1],  # 1\n",
    "    [1, 0, 1, 0, 1, 0, 1],  # 2\n",
    "    [1, 0, 0, 1, 0, 0, 1],  # 3\n",
    "    [1, 0, 1, 0, 1, 0, 1],  # 4\n",
    "    [1, 1, 0, 0, 0, 1, 1],  # 5\n",
    "    [1, 1, 1, 1, 1, 1, 1]   # 6\n",
    "]\n",
    "\n",
    "for idx, x in enumerate(result):\n",
    "    for idy, y in enumerate(x):\n",
    "        print(f'{y}[{idx}][{idy}]', end=', ')\n",
    "        # print(f'{y}', end=', ')\n",
    "    print()\n"
   ],
   "metadata": {
    "collapsed": false
   }
  },
  {
   "cell_type": "code",
   "execution_count": 17,
   "outputs": [
    {
     "name": "stdout",
     "output_type": "stream",
     "text": [
      "[1, 1, 1, 1, 1]\n",
      "[1, 0, 0, 0, 1]\n",
      "[1, 0, 0, 0, 1]\n",
      "[1, 0, 0, 0, 1]\n",
      "[1, 1, 1, 1, 1]\n"
     ]
    }
   ],
   "source": [
    "def gen_table(size: int):\n",
    "    result = []\n",
    "    for i in range(size):\n",
    "        if i == 0 or i == size - 1:\n",
    "            result.append(\n",
    "                [1]*size\n",
    "            )\n",
    "        else:\n",
    "            result.append(\n",
    "                [1] + [0]*(size - 2) + [1]\n",
    "            )\n",
    "    return result\n",
    "\n",
    "\n",
    "for x in gen_table(5):\n",
    "    print(x)"
   ],
   "metadata": {
    "collapsed": false
   }
  },
  {
   "cell_type": "code",
   "execution_count": null,
   "outputs": [],
   "source": [],
   "metadata": {
    "collapsed": false
   }
  }
 ],
 "metadata": {
  "kernelspec": {
   "display_name": "Python 3",
   "language": "python",
   "name": "python3"
  },
  "language_info": {
   "codemirror_mode": {
    "name": "ipython",
    "version": 2
   },
   "file_extension": ".py",
   "mimetype": "text/x-python",
   "name": "python",
   "nbconvert_exporter": "python",
   "pygments_lexer": "ipython2",
   "version": "2.7.6"
  }
 },
 "nbformat": 4,
 "nbformat_minor": 0
}
