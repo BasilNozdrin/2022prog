{
 "cells": [
  {
   "cell_type": "markdown",
   "id": "ec5db6f8",
   "metadata": {},
   "source": [
    "# Задание на 20.01.2023"
   ]
  },
  {
   "cell_type": "markdown",
   "source": [
    "## 6 класс\n",
    "\n",
    "### Теория\n",
    "\n",
    "В функцию `map` можно передавать более одного списка, совместно с функцией, которая принимает столько аргументов, сколько списков передается в `map`. Ниже приведен пример."
   ],
   "metadata": {
    "collapsed": false
   }
  },
  {
   "cell_type": "code",
   "execution_count": 1,
   "outputs": [
    {
     "data": {
      "text/plain": "[-9, -18, -27]"
     },
     "execution_count": 1,
     "metadata": {},
     "output_type": "execute_result"
    }
   ],
   "source": [
    "list(map(lambda x ,y: x + y, [1, 2, 3], [-10, -20, -30]))"
   ],
   "metadata": {
    "collapsed": false
   }
  },
  {
   "cell_type": "markdown",
   "source": [
    "\n",
    "### Практика\n",
    "\n",
    "Решение задач\n",
    "\n",
    "* **На оценку 3** напишите функцию, которая принимает список в качестве аргумента, создает две копии этого списка - с удвоенными значениями и с утроенными значениями и возвращает список, содержащий вес эти элементы, упорядоченные по возрастанию.\n",
    "* **На оценку 4** задача нормирования данных. Пусть задан некоторый список чисел. Необходимо вычесть их всех элементов минимальный и потом поделить все значения на наибольшее значение. Таким образом результирующий список должен содержать значения только из промежутка от 0 до 1. Напишите функцию, которая принимает список в качестве аргумента и возвращает преобразованный список.\n",
    "* **На оценку 5** сделайте оба задания на 3 и на 4."
   ],
   "metadata": {
    "collapsed": false
   }
  },
  {
   "cell_type": "code",
   "execution_count": 6,
   "outputs": [
    {
     "name": "stdout",
     "output_type": "stream",
     "text": [
      "1\n"
     ]
    }
   ],
   "source": [
    "def func_name(arg):\n",
    "    return arg[0]\n",
    "\n",
    "lst = [1, 2, 3]\n",
    "result = func_name(lst)\n",
    "print(result)\n"
   ],
   "metadata": {
    "collapsed": false
   }
  },
  {
   "cell_type": "code",
   "execution_count": 7,
   "outputs": [
    {
     "data": {
      "text/plain": "4"
     },
     "execution_count": 7,
     "metadata": {},
     "output_type": "execute_result"
    }
   ],
   "source": [
    "min([5, 8, 9, 4, 5])"
   ],
   "metadata": {
    "collapsed": false
   }
  },
  {
   "cell_type": "code",
   "execution_count": null,
   "outputs": [],
   "source": [],
   "metadata": {
    "collapsed": false
   }
  }
 ],
 "metadata": {
  "kernelspec": {
   "display_name": "Python 3 (ipykernel)",
   "language": "python",
   "name": "python3"
  },
  "language_info": {
   "codemirror_mode": {
    "name": "ipython",
    "version": 3
   },
   "file_extension": ".py",
   "mimetype": "text/x-python",
   "name": "python",
   "nbconvert_exporter": "python",
   "pygments_lexer": "ipython3",
   "version": "3.11.0"
  }
 },
 "nbformat": 4,
 "nbformat_minor": 5
}
