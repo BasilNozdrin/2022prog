{
 "cells": [
  {
   "cell_type": "markdown",
   "source": [
    "# Задание на 01.03.2023\n",
    "\n",
    "## 6 класс\n",
    "\n",
    "Из-за пропущенного занятия 24 числа, задание смотрите в файле 20-26.02.2023.ipynb\n"
   ],
   "metadata": {
    "collapsed": false
   }
  },
  {
   "cell_type": "code",
   "execution_count": 22,
   "outputs": [],
   "source": [
    "class ReversedList:\n",
    "    def __init__(self, data):\n",
    "        self._data = data\n",
    "\n",
    "    def __iter__(self):\n",
    "        return ReversedIterator(self)\n",
    "\n",
    "    def __repr__(self):\n",
    "        return self._data.__repr__()\n",
    "\n",
    "    def __len__(self):\n",
    "        return len(self._data)\n",
    "\n",
    "    def __getitem__(self, item):\n",
    "        return self._data[item]\n",
    "\n",
    "\n",
    "class ReversedIterator:\n",
    "    def __init__(self, obj):\n",
    "        self._list = obj\n",
    "        self._cur = len(obj) - 1\n",
    "\n",
    "    def __next__(self):\n",
    "        if self._cur < 0:\n",
    "            raise StopIteration\n",
    "        self._cur -= 1\n",
    "        return self._list[self._cur + 1]\n",
    "\n",
    "    def __iter__(self):\n",
    "        return self"
   ],
   "metadata": {
    "collapsed": false
   }
  },
  {
   "cell_type": "code",
   "execution_count": 23,
   "outputs": [
    {
     "name": "stdout",
     "output_type": "stream",
     "text": [
      "[1, 2, 3, 4]\n"
     ]
    }
   ],
   "source": [
    "a = ReversedList([1, 2, 3, 4])\n",
    "print(a)"
   ],
   "metadata": {
    "collapsed": false
   }
  },
  {
   "cell_type": "code",
   "execution_count": 24,
   "outputs": [
    {
     "name": "stdout",
     "output_type": "stream",
     "text": [
      "4\n",
      "3\n",
      "2\n",
      "1\n"
     ]
    }
   ],
   "source": [
    "for x in a:\n",
    "    print(x)"
   ],
   "metadata": {
    "collapsed": false
   }
  },
  {
   "cell_type": "code",
   "execution_count": null,
   "outputs": [],
   "source": [],
   "metadata": {
    "collapsed": false
   }
  }
 ],
 "metadata": {
  "kernelspec": {
   "display_name": "Python 3",
   "language": "python",
   "name": "python3"
  },
  "language_info": {
   "codemirror_mode": {
    "name": "ipython",
    "version": 2
   },
   "file_extension": ".py",
   "mimetype": "text/x-python",
   "name": "python",
   "nbconvert_exporter": "python",
   "pygments_lexer": "ipython2",
   "version": "2.7.6"
  }
 },
 "nbformat": 4,
 "nbformat_minor": 0
}
