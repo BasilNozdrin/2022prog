{
 "cells": [
  {
   "cell_type": "markdown",
   "source": [
    "# Задание на 01.03.2023\n",
    "\n",
    "## 6 класс\n",
    "\n",
    "Из-за пропущенного занятия 24 числа, задание смотрите в файле 20-26.02.2023.ipynb\n"
   ],
   "metadata": {
    "collapsed": false
   }
  },
  {
   "cell_type": "code",
   "execution_count": null,
   "outputs": [],
   "source": [],
   "metadata": {
    "collapsed": false
   }
  }
 ],
 "metadata": {
  "kernelspec": {
   "display_name": "Python 3",
   "language": "python",
   "name": "python3"
  },
  "language_info": {
   "codemirror_mode": {
    "name": "ipython",
    "version": 2
   },
   "file_extension": ".py",
   "mimetype": "text/x-python",
   "name": "python",
   "nbconvert_exporter": "python",
   "pygments_lexer": "ipython2",
   "version": "2.7.6"
  }
 },
 "nbformat": 4,
 "nbformat_minor": 0
}
