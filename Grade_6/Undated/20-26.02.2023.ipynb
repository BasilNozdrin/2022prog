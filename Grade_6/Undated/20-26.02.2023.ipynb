{
 "cells": [
  {
   "cell_type": "markdown",
   "source": [
    "# Задание на 22.02.2023\n",
    "\n",
    "## 6 класс\n",
    "\n",
    "### Методы инкапсуляция, наследование, полиморфизм\n",
    "\n",
    "**Задание** напишите собственный класс, содержащий приватные поля и унаследуйте от него еще один класс, добавляющий некоторый дополнительный функционал. Также определите методы `__repr__` и `__eq__` в обоих классах.\n"
   ],
   "metadata": {
    "collapsed": false
   }
  },
  {
   "cell_type": "code",
   "execution_count": 2,
   "outputs": [],
   "source": [
    "class Inc:\n",
    "    def __init__(self, data, secret):\n",
    "        self.data = data\n",
    "        self.__secret = secret\n",
    "\n",
    "    def __repr__(self):\n",
    "        return f'Inc<{self.data}>'"
   ],
   "metadata": {
    "collapsed": false
   }
  },
  {
   "cell_type": "code",
   "execution_count": 30,
   "outputs": [
    {
     "name": "stdout",
     "output_type": "stream",
     "text": [
      "Inc<5>\n",
      "65\n"
     ]
    }
   ],
   "source": [
    "five = Inc(5, 65)\n",
    "print(\n",
    "    five,\n",
    "    # five.__secret,\n",
    "    five._Inc__secret,\n",
    "    sep='\\n'\n",
    ")"
   ],
   "metadata": {
    "collapsed": false
   }
  },
  {
   "cell_type": "code",
   "execution_count": 12,
   "outputs": [],
   "source": [
    "class A:\n",
    "    def __init__(self, data):\n",
    "        self.m_data = data\n",
    "\n",
    "\n",
    "class B(A):\n",
    "    def split_data(self):\n",
    "        self.m_data //= 2\n",
    "\n",
    "    def __repr__(self):\n",
    "        return f'B<{self.m_data}>'\n"
   ],
   "metadata": {
    "collapsed": false
   }
  },
  {
   "cell_type": "code",
   "execution_count": 10,
   "outputs": [
    {
     "name": "stdout",
     "output_type": "stream",
     "text": [
      "<__main__.A object at 0x00000186E896FBD0>\n"
     ]
    }
   ],
   "source": [
    "a = A(123)\n",
    "print(a)"
   ],
   "metadata": {
    "collapsed": false
   }
  },
  {
   "cell_type": "code",
   "execution_count": 11,
   "outputs": [
    {
     "name": "stdout",
     "output_type": "stream",
     "text": [
      "B<123>\n",
      "123\n",
      "61\n"
     ]
    }
   ],
   "source": [
    "b = B(123)\n",
    "print(b)\n",
    "print(b.m_data)\n",
    "b.split_data()\n",
    "print(b.m_data)"
   ],
   "metadata": {
    "collapsed": false
   }
  },
  {
   "cell_type": "code",
   "execution_count": 3,
   "outputs": [
    {
     "data": {
      "text/plain": "mappingproxy({'__module__': '__main__',\n              '__init__': <function __main__.Inc.__init__(self, data, secret)>,\n              '__repr__': <function __main__.Inc.__repr__(self)>,\n              '__dict__': <attribute '__dict__' of 'Inc' objects>,\n              '__weakref__': <attribute '__weakref__' of 'Inc' objects>,\n              '__doc__': None})"
     },
     "execution_count": 3,
     "metadata": {},
     "output_type": "execute_result"
    }
   ],
   "source": [
    "Inc.__dict__"
   ],
   "metadata": {
    "collapsed": false
   }
  },
  {
   "cell_type": "code",
   "execution_count": 6,
   "outputs": [],
   "source": [],
   "metadata": {
    "collapsed": false
   }
  }
 ],
 "metadata": {
  "kernelspec": {
   "display_name": "Python 3",
   "language": "python",
   "name": "python3"
  },
  "language_info": {
   "codemirror_mode": {
    "name": "ipython",
    "version": 2
   },
   "file_extension": ".py",
   "mimetype": "text/x-python",
   "name": "python",
   "nbconvert_exporter": "python",
   "pygments_lexer": "ipython2",
   "version": "2.7.6"
  }
 },
 "nbformat": 4,
 "nbformat_minor": 0
}
