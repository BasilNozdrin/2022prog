{
 "cells": [
  {
   "cell_type": "markdown",
   "source": [
    "# Задание на 23.01.2023\n",
    "\n",
    "## 6 класс\n",
    "\n",
    "### Теория\n",
    "\n",
    "Тип dict"
   ],
   "metadata": {
    "collapsed": false
   }
  },
  {
   "cell_type": "code",
   "execution_count": null,
   "outputs": [],
   "source": [
    "a = [1, 2, 3]\n",
    "print(a)"
   ],
   "metadata": {
    "collapsed": false
   }
  },
  {
   "cell_type": "code",
   "execution_count": null,
   "outputs": [],
   "source": [
    "a = {\n",
    "    'key': 'value',\n",
    "    'key2': 99,\n",
    "    'key3': [1, 2, 3],\n",
    "    'key4': {\n",
    "        'key': 1703,\n",
    "        'date': '07.05'\n",
    "    }\n",
    "}\n",
    "\n",
    "print(a)"
   ],
   "metadata": {
    "collapsed": false
   }
  },
  {
   "cell_type": "code",
   "execution_count": null,
   "outputs": [],
   "source": [
    "type(a)"
   ],
   "metadata": {
    "collapsed": false
   }
  },
  {
   "cell_type": "code",
   "execution_count": null,
   "outputs": [],
   "source": [
    "print(a['key4']['key'])"
   ],
   "metadata": {
    "collapsed": false
   }
  },
  {
   "cell_type": "code",
   "execution_count": null,
   "outputs": [],
   "source": [
    "\n",
    "player = {\n",
    "    'name': 'Jake',\n",
    "    'race': 'barboblin',\n",
    "    'level': 27,\n",
    "    'damage': 50\n",
    "}\n",
    "\n",
    "player['damage'] += 10"
   ],
   "metadata": {
    "collapsed": false
   }
  },
  {
   "cell_type": "code",
   "execution_count": null,
   "outputs": [],
   "source": [
    "print(player)"
   ],
   "metadata": {
    "collapsed": false
   }
  },
  {
   "cell_type": "code",
   "execution_count": null,
   "outputs": [],
   "source": [
    "def print_player_info(player):\n",
    "    print(f\"PLAYER:\\t{player['name']}\\n\"\n",
    "          f\"RACE:\\t{player['race']}\\n\"\n",
    "          f\"LEVEL:\\t{player['level']}\")\n",
    "\n",
    "\n",
    "print_player_info({\n",
    "    'name': 'Jake',\n",
    "    'race': 'asdasdasd',\n",
    "    'level': 50,\n",
    "})"
   ],
   "metadata": {
    "collapsed": false
   }
  },
  {
   "cell_type": "code",
   "execution_count": null,
   "outputs": [],
   "source": [
    "print(print_player_info)"
   ],
   "metadata": {
    "collapsed": false
   }
  },
  {
   "cell_type": "code",
   "execution_count": null,
   "outputs": [],
   "source": [
    "dict([('1', 1)])"
   ],
   "metadata": {
    "collapsed": false
   }
  },
  {
   "cell_type": "code",
   "execution_count": null,
   "outputs": [],
   "source": [
    "def create_player(name, race, level, damage, hp):\n",
    "    return { ... }\n",
    "\n",
    "\n",
    "def attack(player1, player2):\n",
    "    # change hp value\n",
    "    return player1, player2\n"
   ],
   "metadata": {
    "collapsed": false
   }
  },
  {
   "cell_type": "code",
   "execution_count": null,
   "outputs": [],
   "source": [
    "player1 = create_player('asd', ... )\n",
    "player2 = create_player('qwe', ... )\n",
    "\n",
    "player1, player2 = attack(player1, player2)"
   ],
   "metadata": {
    "collapsed": false
   }
  },
  {
   "cell_type": "code",
   "execution_count": null,
   "outputs": [],
   "source": [],
   "metadata": {
    "collapsed": false
   }
  },
  {
   "cell_type": "code",
   "execution_count": null,
   "outputs": [],
   "source": [],
   "metadata": {
    "collapsed": false
   }
  },
  {
   "cell_type": "code",
   "execution_count": null,
   "outputs": [],
   "source": [],
   "metadata": {
    "collapsed": false
   }
  }
 ],
 "metadata": {
  "kernelspec": {
   "display_name": "Python 3",
   "language": "python",
   "name": "python3"
  },
  "language_info": {
   "codemirror_mode": {
    "name": "ipython",
    "version": 2
   },
   "file_extension": ".py",
   "mimetype": "text/x-python",
   "name": "python",
   "nbconvert_exporter": "python",
   "pygments_lexer": "ipython2",
   "version": "2.7.6"
  }
 },
 "nbformat": 4,
 "nbformat_minor": 0
}
