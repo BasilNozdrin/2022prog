{
 "cells": [
  {
   "cell_type": "markdown",
   "source": [
    "# Задание на 23.01.2023\n",
    "\n",
    "## 6 класс\n",
    "\n",
    "### Теория\n",
    "\n",
    "Тип dict"
   ],
   "metadata": {
    "collapsed": false
   }
  },
  {
   "cell_type": "code",
   "execution_count": 1,
   "outputs": [
    {
     "name": "stdout",
     "output_type": "stream",
     "text": [
      "[1, 2, 3]\n"
     ]
    }
   ],
   "source": [
    "a = [1, 2, 3]\n",
    "print(a)"
   ],
   "metadata": {
    "collapsed": false
   }
  },
  {
   "cell_type": "code",
   "execution_count": 2,
   "outputs": [
    {
     "name": "stdout",
     "output_type": "stream",
     "text": [
      "{'key': 'value', 'key2': 99, 'key3': [1, 2, 3], 'key4': {'key': 1703, 'date': '07.05'}}\n"
     ]
    }
   ],
   "source": [
    "a = {\n",
    "    'key': 'value',\n",
    "    'key2': 99,\n",
    "    'key3': [1, 2, 3],\n",
    "    'key4': {\n",
    "        'key': 1703,\n",
    "        'date': '07.05'\n",
    "    }\n",
    "}\n",
    "\n",
    "print(a)"
   ],
   "metadata": {
    "collapsed": false
   }
  },
  {
   "cell_type": "code",
   "execution_count": 3,
   "outputs": [
    {
     "data": {
      "text/plain": "dict"
     },
     "execution_count": 3,
     "metadata": {},
     "output_type": "execute_result"
    }
   ],
   "source": [
    "type(a)"
   ],
   "metadata": {
    "collapsed": false
   }
  },
  {
   "cell_type": "code",
   "execution_count": 4,
   "outputs": [
    {
     "name": "stdout",
     "output_type": "stream",
     "text": [
      "1703\n"
     ]
    }
   ],
   "source": [
    "print(a['key4']['key'])"
   ],
   "metadata": {
    "collapsed": false
   }
  },
  {
   "cell_type": "code",
   "execution_count": 5,
   "outputs": [],
   "source": [
    "\n",
    "player = {\n",
    "    'name': 'Jake',\n",
    "    'race': 'barboblin',\n",
    "    'level': 27,\n",
    "    'damage': 50\n",
    "}\n",
    "\n",
    "# player['damage'] = player['damage'] + 10\n",
    "player['damage'] += 10"
   ],
   "metadata": {
    "collapsed": false
   }
  },
  {
   "cell_type": "code",
   "execution_count": 6,
   "outputs": [
    {
     "name": "stdout",
     "output_type": "stream",
     "text": [
      "{'name': 'Jake', 'race': 'barboblin', 'level': 27, 'damage': 60}\n"
     ]
    }
   ],
   "source": [
    "print(player)"
   ],
   "metadata": {
    "collapsed": false
   }
  },
  {
   "cell_type": "code",
   "execution_count": 9,
   "outputs": [
    {
     "name": "stdout",
     "output_type": "stream",
     "text": [
      "PLAYER:\tJake\n",
      "RACE:\tasdasdasd\n",
      "LEVEL:\t50\n"
     ]
    }
   ],
   "source": [
    "def print_player_info(player):\n",
    "    print(f\"PLAYER:\\t{player['name']}\\n\"\n",
    "          f\"RACE:\\t{player['race']}\\n\"\n",
    "          f\"LEVEL:\\t{player['level']}\")\n",
    "\n",
    "\n",
    "print_player_info({\n",
    "    'name': 'Jake',\n",
    "    'race': 'asdasdasd',\n",
    "    'level': 50,\n",
    "})"
   ],
   "metadata": {
    "collapsed": false
   }
  },
  {
   "cell_type": "code",
   "execution_count": 10,
   "outputs": [
    {
     "name": "stdout",
     "output_type": "stream",
     "text": [
      "<function print_player_info at 0x000001D5BFEADF80>\n"
     ]
    }
   ],
   "source": [
    "print(print_player_info)"
   ],
   "metadata": {
    "collapsed": false
   }
  },
  {
   "cell_type": "code",
   "execution_count": 14,
   "outputs": [
    {
     "data": {
      "text/plain": "{'1': 1, '2': 9}"
     },
     "execution_count": 14,
     "metadata": {},
     "output_type": "execute_result"
    }
   ],
   "source": [
    "dict([('1', 1), ('2', 9)])"
   ],
   "metadata": {
    "collapsed": false
   }
  },
  {
   "cell_type": "code",
   "execution_count": null,
   "outputs": [],
   "source": [
    "def create_player(name, race, level, damage, hp):\n",
    "    return { 'name' : name, ... }\n",
    "\n",
    "\n",
    "def attack(player1, player2):\n",
    "    # change hp value\n",
    "    return player1, player2\n"
   ],
   "metadata": {
    "collapsed": false,
    "pycharm": {
     "is_executing": true
    }
   }
  },
  {
   "cell_type": "code",
   "execution_count": null,
   "outputs": [],
   "source": [
    "player1 = create_player('asd', ... )\n",
    "player2 = create_player('qwe', ... )\n",
    "\n",
    "print_player_info(player1)\n",
    "print_player_info(player2)\n",
    "\n",
    "player1, player2 = attack(player1, player2)\n",
    "\n",
    "print_player_info(player1)\n",
    "print_player_info(player2)"
   ],
   "metadata": {
    "collapsed": false
   }
  },
  {
   "cell_type": "code",
   "execution_count": null,
   "outputs": [],
   "source": [],
   "metadata": {
    "collapsed": false
   }
  },
  {
   "cell_type": "code",
   "execution_count": null,
   "outputs": [],
   "source": [],
   "metadata": {
    "collapsed": false
   }
  },
  {
   "cell_type": "code",
   "execution_count": null,
   "outputs": [],
   "source": [],
   "metadata": {
    "collapsed": false
   }
  }
 ],
 "metadata": {
  "kernelspec": {
   "display_name": "Python 3",
   "language": "python",
   "name": "python3"
  },
  "language_info": {
   "codemirror_mode": {
    "name": "ipython",
    "version": 2
   },
   "file_extension": ".py",
   "mimetype": "text/x-python",
   "name": "python",
   "nbconvert_exporter": "python",
   "pygments_lexer": "ipython2",
   "version": "2.7.6"
  }
 },
 "nbformat": 4,
 "nbformat_minor": 0
}
