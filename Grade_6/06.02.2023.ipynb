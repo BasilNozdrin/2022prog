{
 "cells": [
  {
   "cell_type": "markdown",
   "source": [
    "## 6 класс\n",
    "\n",
    "### Теория\n",
    "\n",
    "см. файл `27.01.2023.py`\n",
    "\n",
    "### Практика\n",
    "\n",
    "Задача:\n",
    "\n",
    "* **на оценку 4** сохраните словарь player из 23.01.2023 в файл в формате JSON\n",
    "* **на оценку 5** напишите функцию, принимающую словарь игрока и сохраняющую ее в файл `%player_name%_save.json`\n"
   ],
   "metadata": {
    "collapsed": false
   }
  },
  {
   "cell_type": "code",
   "execution_count": null,
   "outputs": [],
   "source": [],
   "metadata": {
    "collapsed": false,
    "pycharm": {
     "is_executing": true
    }
   }
  }
 ],
 "metadata": {
  "kernelspec": {
   "display_name": "Python 3",
   "language": "python",
   "name": "python3"
  },
  "language_info": {
   "codemirror_mode": {
    "name": "ipython",
    "version": 2
   },
   "file_extension": ".py",
   "mimetype": "text/x-python",
   "name": "python",
   "nbconvert_exporter": "python",
   "pygments_lexer": "ipython2",
   "version": "2.7.6"
  }
 },
 "nbformat": 4,
 "nbformat_minor": 0
}
