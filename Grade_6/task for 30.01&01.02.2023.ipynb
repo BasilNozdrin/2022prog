{
 "cells": [
  {
   "cell_type": "markdown",
   "id": "bab9cd9c",
   "metadata": {},
   "source": [
    "# Задание на 30.01&01.02&03.02.2023\n",
    "\n",
    "## 6 класс\n",
    "\n",
    "### Теория\n",
    "\n",
    "**Тема занятия: Работа с файлами в python.**\n",
    "\n"
   ]
  },
  {
   "cell_type": "code",
   "execution_count": 8,
   "outputs": [
    {
     "name": "stdout",
     "output_type": "stream",
     "text": [
      "<_io.TextIOWrapper name='./file1.txt' mode='r' encoding='utf-8'>\n",
      "Hello! This is contents of file1!\n",
      "This is second line in file1.txt\n",
      "This is third line in file1.txt\n",
      "\n"
     ]
    }
   ],
   "source": [
    "with open('./file1.txt', 'r', encoding='utf-8') as file1:\n",
    "    print(file1)\n",
    "    print(file1.read())"
   ],
   "metadata": {
    "collapsed": false
   }
  },
  {
   "cell_type": "markdown",
   "source": [
    "### Практика\n",
    "\n",
    "* **На оценку 3** вычислите сколько в книге Война и Мир русских букв а.\n",
    "* **На оценку 4** сохраните первую главу книги Война и Мир в отдельный файл.\n",
    "* **На оценку 5** вычислите сколько в книге Война и Мир всех букв русского алфавита.\n"
   ],
   "metadata": {
    "collapsed": false
   }
  },
  {
   "cell_type": "code",
   "execution_count": 3,
   "outputs": [],
   "source": [
    "letters = { 'А': 0, 'Б': 0, 'В': 0, 'Г': 0, }\n",
    "\n",
    "letters_counters = [\n",
    "    0,  # А\n",
    "    0,  # Б\n",
    "    0,  # В\n",
    "    0,  # Г\n",
    "    0,\n",
    "    0,\n",
    "    0,\n",
    "    0,\n",
    "    0\n",
    "]"
   ],
   "metadata": {
    "collapsed": false
   }
  },
  {
   "cell_type": "code",
   "execution_count": 1,
   "outputs": [
    {
     "name": "stdout",
     "output_type": "stream",
     "text": [
      "abcdefghijklmnop ABCDEFGHIJKLMNOP\n"
     ]
    }
   ],
   "source": [
    "s = 'abcdEFGHijkLMNop'\n",
    "print(s.lower(), s.upper())"
   ],
   "metadata": {
    "collapsed": false
   }
  },
  {
   "cell_type": "code",
   "execution_count": 2,
   "outputs": [
    {
     "name": "stdout",
     "output_type": "stream",
     "text": [
      "1040 65 1071 1025\n"
     ]
    }
   ],
   "source": [
    "print(ord('А'), ord('A'), ord('Я'), ord('Ё'))"
   ],
   "metadata": {
    "collapsed": false
   }
  },
  {
   "cell_type": "code",
   "execution_count": 10,
   "outputs": [
    {
     "name": "stdout",
     "output_type": "stream",
     "text": [
      "0 1 2 3 4 5 ё 6 7 8 10 1 1 1 1 \n",
      "5\n",
      "5\n"
     ]
    }
   ],
   "source": [
    "counter = 0\n",
    "# book = ''\n",
    "# with open('1.txt', 'r', encoding='utf-8') as file:\n",
    "#     lines = file.readlines()\n",
    "#     for line in lines:\n",
    "#         counter += line.upper().count('!')\n",
    "#         if line == 'Часть вторая\\n':\n",
    "#             break\n",
    "#         book += line\n",
    "#         for x in line:\n",
    "#             pass\n",
    "\n",
    "# file.write(book)\n",
    "\n",
    "for x in 'АБВгдеёЖЗИкбббб':\n",
    "    if x.upper() == 'Б':\n",
    "        counter += 1\n",
    "\n",
    "    if x.lower() == 'ё':\n",
    "        print(x, end=' ')\n",
    "    else:\n",
    "        print(ord(x.upper())-ord('А'), end=' ')\n",
    "print()\n",
    "print(counter)\n",
    "\n",
    "string = 'АБВгдеёЖЗИкбббб'\n",
    "# upper_string = string.upper()\n",
    "# result = upper_string.count('Б')\n",
    "print(string.upper().count('Б'))"
   ],
   "metadata": {
    "collapsed": false
   }
  },
  {
   "cell_type": "code",
   "execution_count": 13,
   "outputs": [
    {
     "name": "stdout",
     "output_type": "stream",
     "text": [
      "1025->Ё   1026->Ђ   1027->Ѓ   1028->Є   1029->Ѕ   \n",
      "1030->І   1031->Ї   1032->Ј   1033->Љ   1034->Њ   \n",
      "1035->Ћ   1036->Ќ   1037->Ѝ   1038->Ў   1039->Џ   \n",
      "1040->А   1041->Б   1042->В   1043->Г   1044->Д   \n",
      "1045->Е   1046->Ж   1047->З   1048->И   1049->Й   \n",
      "1050->К   1051->Л   1052->М   1053->Н   1054->О   \n",
      "1055->П   1056->Р   1057->С   1058->Т   1059->У   \n",
      "1060->Ф   1061->Х   1062->Ц   1063->Ч   1064->Ш   \n",
      "1065->Щ   1066->Ъ   1067->Ы   1068->Ь   1069->Э   \n",
      "1070->Ю   1071->Я   1072->а   1073->б   1074->в   \n",
      "1075->г   1076->д   1077->е   1078->ж   1079->з   \n",
      "1080->и   1081->й   1082->к   1083->л   1084->м   \n",
      "1085->н   1086->о   1087->п   1088->р   1089->с   \n",
      "1090->т   1091->у   1092->ф   1093->х   1094->ц   \n",
      "1095->ч   1096->ш   1097->щ   1098->ъ   1099->ы   \n",
      "1100->ь   1101->э   1102->ю   1103->я   "
     ]
    }
   ],
   "source": [
    "for x in range(64+15):\n",
    "    number = ord('Ё') + x\n",
    "    letter = chr(number)\n",
    "    print(f'{number}->{letter}' , end='   ')\n",
    "    if x % 5 == 4:\n",
    "        print()"
   ],
   "metadata": {
    "collapsed": false
   }
  }
 ],
 "metadata": {
  "kernelspec": {
   "display_name": "Python 3 (ipykernel)",
   "language": "python",
   "name": "python3"
  },
  "language_info": {
   "codemirror_mode": {
    "name": "ipython",
    "version": 3
   },
   "file_extension": ".py",
   "mimetype": "text/x-python",
   "name": "python",
   "nbconvert_exporter": "python",
   "pygments_lexer": "ipython3",
   "version": "3.11.0"
  }
 },
 "nbformat": 4,
 "nbformat_minor": 5
}
