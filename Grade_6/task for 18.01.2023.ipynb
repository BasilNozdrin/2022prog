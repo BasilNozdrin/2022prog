{
 "cells": [
  {
   "cell_type": "markdown",
   "id": "ec5db6f8",
   "metadata": {},
   "source": [
    "# Задание на 18.01.2023"
   ]
  },
  {
   "cell_type": "markdown",
   "id": "bab9cd9c",
   "metadata": {},
   "source": [
    "## 6 класс\n",
    "\n",
    "### Теория\n",
    "\n",
    "**Тема занятия: быстрая сортировка, рекурсивная реализация.**\n",
    "\n",
    "В прошлой четверти мы уже проходили один алгоритм сортировки - сортировку пузырьком. Быстрая сортировка - другой, более оптимальный алгоритм. Один шаг алгоритма - выбрать один элемент из списка и разделить все элементы списка на три множества - те элементы, которые меньше выбранного элемента, те, что больше выбранного и равные ему. Второй шаг - рекурсивно аналогичным образом отсортировать два из трех множеств - множество элементов равных выбранному уже отсортировано. Ниже приведена реализация данного алгоритма.\n"
   ]
  },
  {
   "cell_type": "code",
   "execution_count": 1,
   "outputs": [
    {
     "name": "stdout",
     "output_type": "stream",
     "text": [
      "[1, 3, 4, 5, 5, 6, 7, 8, 8, 12, 16, 20]\n"
     ]
    }
   ],
   "source": [
    "def qsort(data):\n",
    "    if len(data) < 2:       # Если в списке 0 или 1 элемент,\n",
    "        return data         # то его сортировать не нужно\n",
    "\n",
    "    chosen = data[0]        # Выбираем любой элемент. В нашем случае берем первый элемент из списка\n",
    "\n",
    "    less_then_chosen = list(filter(lambda x: x < chosen, data))     # элементы меньше выбранного\n",
    "    equal_to_chosen = list(filter(lambda x: x == chosen, data))     # элементы равные выбранному\n",
    "    bigger_then_chosen = list(filter(lambda x: x > chosen, data))   # элементы больше выбранного\n",
    "\n",
    "    return qsort(less_then_chosen) + equal_to_chosen + qsort(bigger_then_chosen)\n",
    "\n",
    "\n",
    "\n",
    "print(qsort([6, 4, 8, 12, 5, 1, 7, 5, 16, 20, 3, 8]))"
   ],
   "metadata": {
    "collapsed": false
   }
  },
  {
   "cell_type": "markdown",
   "source": [
    "Также предлагаю ознакомиться с укороченной версией аналогичной программы"
   ],
   "metadata": {
    "collapsed": false
   }
  },
  {
   "cell_type": "code",
   "execution_count": 2,
   "outputs": [
    {
     "name": "stdout",
     "output_type": "stream",
     "text": [
      "[1, 3, 4, 5, 5, 6, 7, 8, 8, 12, 16, 20]\n"
     ]
    }
   ],
   "source": [
    "def qsort(data):\n",
    "    if len(data) < 2:\n",
    "        return data\n",
    "    return qsort(list(filter(lambda x: x < data[0], data))) + list(filter(lambda x: x == data[0], data)) + qsort(list(filter(lambda x: x > data[0], data)))\n",
    "\n",
    "\n",
    "print(qsort([6, 4, 8, 12, 5, 1, 7, 5, 16, 20, 3, 8]))"
   ],
   "metadata": {
    "collapsed": false
   }
  },
  {
   "cell_type": "markdown",
   "source": [
    "Писать такие программы никто не запрещает, однако читать такой код в разы сложнее, чем код с комментариями, приведенный ранее."
   ],
   "metadata": {
    "collapsed": false
   }
  },
  {
   "cell_type": "markdown",
   "source": [
    "### Практика\n",
    "\n",
    "Запустите примеры из теории, перепишите программу таким образом, чтобы сортировка была по убыванию.\n",
    "\n",
    "На нашем Discord сервере можно задавать вопросы (ссылка для приглашения: [https://discord.gg/3rJsVg9Ye8](https://discord.gg/3rJsVg9Ye8))."
   ],
   "metadata": {
    "collapsed": false
   }
  }
 ],
 "metadata": {
  "kernelspec": {
   "display_name": "Python 3 (ipykernel)",
   "language": "python",
   "name": "python3"
  },
  "language_info": {
   "codemirror_mode": {
    "name": "ipython",
    "version": 3
   },
   "file_extension": ".py",
   "mimetype": "text/x-python",
   "name": "python",
   "nbconvert_exporter": "python",
   "pygments_lexer": "ipython3",
   "version": "3.11.0"
  }
 },
 "nbformat": 4,
 "nbformat_minor": 5
}
