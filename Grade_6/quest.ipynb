{
 "cells": [
  {
   "cell_type": "markdown",
   "id": "e2078375",
   "metadata": {},
   "source": [
    "# Игра-квест как конечный автомат"
   ]
  },
  {
   "cell_type": "code",
   "execution_count": 1,
   "id": "96b28d08",
   "metadata": {},
   "outputs": [],
   "source": [
    "import time"
   ]
  },
  {
   "cell_type": "code",
   "execution_count": 2,
   "id": "bc6592e8",
   "metadata": {},
   "outputs": [],
   "source": [
    "def play_game():\n",
    "    def q1():\n",
    "        user_input = input(\"Вы идете по лесной тропе и перед вами развилка.\\n\"\n",
    "                           \"Куда пойдете: направо (1) или налево (2)?\\n\"\n",
    "                           \"Напишите цифру: \").strip()\n",
    "        if user_input == \"1\":\n",
    "            return 'q2'\n",
    "        elif user_input == \"2\":\n",
    "            return 'q2' # заглушка вместо q4\n",
    "        else:\n",
    "            print(\"Вы меня, видимо, не поняли. Давайте попробуем еще раз.\")\n",
    "            return 'q1'\n",
    "\n",
    "    def q2():\n",
    "        user_input = input(\"Вы вышли на поляну, выберите действие:\\n\"\n",
    "                           \"отдохнуть (1) \\t\\t идти дальше (2)?\\n\"\n",
    "                           \"Напишите цифру: \").strip()\n",
    "        if user_input == \"1\":\n",
    "            return 'q3'\n",
    "        elif user_input == \"2\":\n",
    "            print(\"Вы устали и не можете идти дальше. (Вы отдахаете)\")\n",
    "            return 'q3'\n",
    "        else:\n",
    "            print(\"Вы меня, видимо, не поняли. Давайте попробуем еще раз.\")\n",
    "            return 'q2'\n",
    "\n",
    "    def q3():\n",
    "        user_input = input(\"Вы отдохнули и Вам надо идти домой:\\n\"\n",
    "                           \"идти домой (1) \\t\\t идти дальше (2)?\\n\"\n",
    "                           \"Напишите цифру: \").strip()\n",
    "        if user_input == \"1\":\n",
    "            print(\"Вы идете домой. Конец!\")\n",
    "            return 'q7'\n",
    "        elif user_input == \"2\":\n",
    "            print(\"Но Вам надо идти домой (Вы идете домой). Конец!\")\n",
    "            return 'q7'\n",
    "        else:\n",
    "            print(\"Вы меня, видимо, не поняли. Давайте попробуем еще раз.\")\n",
    "            return 'q3'\n",
    "\n",
    "    def q4():\n",
    "        return 'q5'\n",
    "\n",
    "    def q5():\n",
    "        return 'q6'\n",
    "\n",
    "    def q6():\n",
    "        return 'q7'\n",
    "\n",
    "    \n",
    "    states = {'q1': q1, 'q2': q2, 'q3': q3, 'q4': q4, 'q5': q5, 'q6': q6}\n",
    "    current_state = 'q1'\n",
    "    while current_state != 'q7':\n",
    "        new_state = states[current_state]()\n",
    "        time.sleep(1)\n",
    "        current_state = new_state\n"
   ]
  },
  {
   "cell_type": "code",
   "execution_count": 3,
   "id": "4ae6816e",
   "metadata": {},
   "outputs": [
    {
     "name": "stdout",
     "output_type": "stream",
     "text": [
      "Вы идете по лесной тропе и перед вами развилка.\n",
      "Куда пойдете: направо (1) или налево (2)?\n",
      "Напишите цифру: 1\n",
      "Вы вышли на поляну, выберите действие:\n",
      "отдохнуть (1) \t\t идти дальше (2)?\n",
      "Напишите цифру: 1\n",
      "Вы отдохнули и Вам надо идти домой:\n",
      "идти домой (1) \t\t идти дальше (2)?\n",
      "Напишите цифру: 1\n",
      "Вы идете домой. Конец!\n"
     ]
    }
   ],
   "source": [
    "play_game()"
   ]
  },
  {
   "cell_type": "code",
   "execution_count": null,
   "id": "caba5bf4",
   "metadata": {},
   "outputs": [],
   "source": []
  }
 ],
 "metadata": {
  "kernelspec": {
   "display_name": "Python 3 (ipykernel)",
   "language": "python",
   "name": "python3"
  },
  "language_info": {
   "codemirror_mode": {
    "name": "ipython",
    "version": 3
   },
   "file_extension": ".py",
   "mimetype": "text/x-python",
   "name": "python",
   "nbconvert_exporter": "python",
   "pygments_lexer": "ipython3",
   "version": "3.10.7"
  }
 },
 "nbformat": 4,
 "nbformat_minor": 5
}
