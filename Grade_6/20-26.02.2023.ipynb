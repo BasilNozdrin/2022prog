{
 "cells": [
  {
   "cell_type": "markdown",
   "source": [
    "# Задание на 22.02.2023\n",
    "\n",
    "## 6 класс\n",
    "\n",
    "### Методы инкапсуляция, наследование, полиморфизм\n",
    "\n",
    "**На оценку 3**\n"
   ],
   "metadata": {
    "collapsed": false
   }
  },
  {
   "cell_type": "code",
   "execution_count": 29,
   "outputs": [],
   "source": [
    "class Inc:\n",
    "    def __init__(self, data, secret):\n",
    "        self.data = data\n",
    "        self.__secret = secret\n",
    "\n",
    "    def __repr__(self):\n",
    "        return f'Inc<{self.data}>'"
   ],
   "metadata": {
    "collapsed": false
   }
  },
  {
   "cell_type": "code",
   "execution_count": 30,
   "outputs": [
    {
     "name": "stdout",
     "output_type": "stream",
     "text": [
      "Inc<5>\n",
      "65\n"
     ]
    }
   ],
   "source": [
    "five = Inc(5, 65)\n",
    "print(\n",
    "    five,\n",
    "    # five.__secret,\n",
    "    five._Inc__secret,\n",
    "    sep='\\n'\n",
    ")"
   ],
   "metadata": {
    "collapsed": false
   }
  },
  {
   "cell_type": "code",
   "execution_count": 12,
   "outputs": [],
   "source": [
    "class A:\n",
    "    def __init__(self, data):\n",
    "        self.m_data = data\n",
    "\n",
    "\n",
    "class B(A):\n",
    "    def split_data(self):\n",
    "        self.m_data //= 2\n",
    "\n",
    "    def __repr__(self):\n",
    "        return f'B<{self.m_data}>'\n"
   ],
   "metadata": {
    "collapsed": false
   }
  },
  {
   "cell_type": "code",
   "execution_count": 10,
   "outputs": [
    {
     "name": "stdout",
     "output_type": "stream",
     "text": [
      "<__main__.A object at 0x00000186E896FBD0>\n"
     ]
    }
   ],
   "source": [
    "a = A(123)\n",
    "print(a)"
   ],
   "metadata": {
    "collapsed": false
   }
  },
  {
   "cell_type": "code",
   "execution_count": 11,
   "outputs": [
    {
     "name": "stdout",
     "output_type": "stream",
     "text": [
      "B<123>\n",
      "123\n",
      "61\n"
     ]
    }
   ],
   "source": [
    "b = B(123)\n",
    "print(b)\n",
    "print(b.m_data)\n",
    "b.split_data()\n",
    "print(b.m_data)"
   ],
   "metadata": {
    "collapsed": false
   }
  },
  {
   "cell_type": "code",
   "execution_count": 32,
   "outputs": [
    {
     "ename": "NameError",
     "evalue": "name '__dict__' is not defined",
     "output_type": "error",
     "traceback": [
      "\u001B[1;31m---------------------------------------------------------------------------\u001B[0m",
      "\u001B[1;31mNameError\u001B[0m                                 Traceback (most recent call last)",
      "Cell \u001B[1;32mIn [32], line 1\u001B[0m\n\u001B[1;32m----> 1\u001B[0m \u001B[38;5;18;43m__dict__\u001B[39;49m(Inc)\n",
      "\u001B[1;31mNameError\u001B[0m: name '__dict__' is not defined"
     ]
    }
   ],
   "source": [
    "Inc.__dict__"
   ],
   "metadata": {
    "collapsed": false
   }
  },
  {
   "cell_type": "code",
   "execution_count": 6,
   "outputs": [],
   "source": [],
   "metadata": {
    "collapsed": false
   }
  }
 ],
 "metadata": {
  "kernelspec": {
   "display_name": "Python 3",
   "language": "python",
   "name": "python3"
  },
  "language_info": {
   "codemirror_mode": {
    "name": "ipython",
    "version": 2
   },
   "file_extension": ".py",
   "mimetype": "text/x-python",
   "name": "python",
   "nbconvert_exporter": "python",
   "pygments_lexer": "ipython2",
   "version": "2.7.6"
  }
 },
 "nbformat": 4,
 "nbformat_minor": 0
}
